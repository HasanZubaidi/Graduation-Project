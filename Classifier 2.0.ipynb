{
 "cells": [
  {
   "cell_type": "code",
   "execution_count": 1,
   "id": "0a71db96-aa2b-454f-9f8d-8c3625745a29",
   "metadata": {},
   "outputs": [],
   "source": [
    "import torchvision\n",
    "import torch\n",
    "import torchvision.transforms as transforms\n",
    "import PIL.Image as Image"
   ]
  },
  {
   "cell_type": "code",
   "execution_count": 2,
   "id": "011b50f4-1873-419d-83cb-d5e34fb9da35",
   "metadata": {},
   "outputs": [],
   "source": [
    "classes = ['Acne and Rosacea',\n",
    " 'Bug Bites',\n",
    " 'Eczema',\n",
    " 'Hair Loss and Diseases',\n",
    " 'Melanoma Skin Cancer Nevi and Moles',\n",
    " 'Nail Fungus and Disease']"
   ]
  },
  {
   "cell_type": "code",
   "execution_count": 3,
   "id": "c7319c72-a968-4ee3-9ffe-88412f556d11",
   "metadata": {},
   "outputs": [],
   "source": [
    "img_dim = (224,224)"
   ]
  },
  {
   "cell_type": "code",
   "execution_count": 4,
   "id": "46f1aca8-9523-471a-a3f9-6fb9f909c212",
   "metadata": {},
   "outputs": [],
   "source": [
    "input_transforms = transforms.Compose([\n",
    "    transforms.Resize(img_dim),    \n",
    "    transforms.ToTensor(),\n",
    "    transforms.Lambda(lambda x: x / 255.0)\n",
    "])"
   ]
  },
  {
   "cell_type": "code",
   "execution_count": 9,
   "id": "3f56729d-7dcf-4b35-b6c6-003a0c2623e2",
   "metadata": {},
   "outputs": [],
   "source": [
    "densenet_model = torch.load(\"vgg_19.pth\")"
   ]
  },
  {
   "cell_type": "code",
   "execution_count": 10,
   "id": "9cb14e57-d33d-4977-ad8c-e59f6490917d",
   "metadata": {},
   "outputs": [],
   "source": [
    "def classify (model,image_transforms,image_path,classes):\n",
    "    model = model.eval()\n",
    "    image = Image.open(image_path)\n",
    "    image = image_transforms(image).float()\n",
    "    image = image.unsqueeze(0)\n",
    "    output = model(image)\n",
    "    _, predicted = torch.max(output.data,1)\n",
    "    print(classes[predicted.item()])"
   ]
  },
  {
   "cell_type": "code",
   "execution_count": 15,
   "id": "90c6f9ab-c769-4114-b03e-6704f0f706ea",
   "metadata": {},
   "outputs": [],
   "source": [
    "path = r\"C:\\Users\\SAMU\\Downloads\\class\\nail.jpg\""
   ]
  },
  {
   "cell_type": "code",
   "execution_count": 16,
   "id": "ae8f3cd0-2187-4022-9e51-c5d0686e646f",
   "metadata": {},
   "outputs": [
    {
     "name": "stdout",
     "output_type": "stream",
     "text": [
      "Bug Bites\n"
     ]
    }
   ],
   "source": [
    "classify (densenet_model, input_transforms, path, classes)"
   ]
  },
  {
   "cell_type": "code",
   "execution_count": null,
   "id": "261c2185-19b2-4998-9a0f-78eb577655b8",
   "metadata": {},
   "outputs": [],
   "source": []
  }
 ],
 "metadata": {
  "kernelspec": {
   "display_name": "dermanet-env",
   "language": "python",
   "name": "dermanet-env"
  },
  "language_info": {
   "codemirror_mode": {
    "name": "ipython",
    "version": 3
   },
   "file_extension": ".py",
   "mimetype": "text/x-python",
   "name": "python",
   "nbconvert_exporter": "python",
   "pygments_lexer": "ipython3",
   "version": "3.10.14"
  }
 },
 "nbformat": 4,
 "nbformat_minor": 5
}
