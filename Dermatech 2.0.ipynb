{
 "cells": [
  {
   "cell_type": "markdown",
   "id": "1d1aa516-5ec0-4c2e-9ca4-d2ee276deffe",
   "metadata": {},
   "source": [
    "### 1) Setup"
   ]
  },
  {
   "cell_type": "code",
   "execution_count": 1,
   "id": "09610f0c-3015-4fb7-b9ba-8b0a9a9d0264",
   "metadata": {},
   "outputs": [],
   "source": [
    "import os\n",
    "import cv2\n",
    "import math\n",
    "import copy\n",
    "from tqdm import tqdm\n",
    "import time\n",
    "import random\n",
    "import numpy as np\n",
    "import pandas as pd\n",
    "import seaborn as sns\n",
    "import matplotlib.pyplot as plt\n",
    "from matplotlib.pyplot import figure\n",
    "import itertools\n",
    "from torchvision.io import read_image\n",
    "\n",
    "import torch\n",
    "import torchvision\n",
    "from torch import nn\n",
    "import torch.nn.functional as F\n",
    "import torch.optim as optim\n",
    "from torch.utils.data import DataLoader, ConcatDataset, Subset, SubsetRandomSampler\n",
    "from torch.utils.data import Dataset\n",
    "from torchvision import datasets\n",
    "from torchvision.transforms import ToTensor\n",
    "from torchvision import transforms\n",
    "from torchvision.utils import save_image\n",
    "import torchvision.models as models\n",
    "from sklearn.utils.class_weight import compute_class_weight\n",
    "from sklearn.metrics import confusion_matrix, classification_report, accuracy_score,recall_score, precision_score, f1_score\n",
    "\n",
    "from imblearn.over_sampling import RandomOverSampler\n",
    "from imblearn.under_sampling import RandomUnderSampler\n",
    "from sklearn.model_selection import KFold\n",
    "from sklearn.model_selection import StratifiedKFold\n",
    "from torch.optim.lr_scheduler import OneCycleLR\n",
    "\n",
    "from PIL import Image, ImageFile\n",
    "#%matlpotlib inline"
   ]
  },
  {
   "cell_type": "code",
   "execution_count": 2,
   "id": "5eb86f14-4e84-4c2a-9789-bcb769799ac6",
   "metadata": {},
   "outputs": [
    {
     "data": {
      "text/plain": [
       "True"
      ]
     },
     "execution_count": 2,
     "metadata": {},
     "output_type": "execute_result"
    }
   ],
   "source": [
    "torch.cuda.is_available()"
   ]
  },
  {
   "cell_type": "markdown",
   "id": "8d37ffe8-6df4-471c-a623-8774c15e0ec2",
   "metadata": {},
   "source": [
    "---"
   ]
  },
  {
   "cell_type": "markdown",
   "id": "eb3ce828-0f22-4c0c-97ce-f706c1f7469b",
   "metadata": {},
   "source": [
    "### 2) Data"
   ]
  },
  {
   "cell_type": "code",
   "execution_count": 3,
   "id": "184aae2e-3a1e-4f79-b115-e9cd38bdf414",
   "metadata": {},
   "outputs": [],
   "source": [
    "dir = r\"C:\\Users\\SAMU\\Desktop\\GP\\DermaTech\\DermaTech Dataset 2.0\"\n",
    "train_dir = os.path.join(dir, 'train')\n",
    "test_dir = os.path.join(dir, 'test')"
   ]
  },
  {
   "cell_type": "markdown",
   "id": "dd480683-7c82-4869-a28b-d4497c33da5d",
   "metadata": {},
   "source": [
    "\"\"\" python\n",
    "def getMeanStd (loader):\n",
    "    mean = 0.\n",
    "    std = 0.\n",
    "    count = 0\n",
    "    for images,_ in loader:\n",
    "        images_in_batch = images.size(0)\n",
    "        images = images.view(images_in_batch,images.size(1),-1)\n",
    "        mean += images.mean(2).sum(0)\n",
    "        std += images.std(2).sum(0)\n",
    "        count += images_in_batch\n",
    "    mean /= count\n",
    "    std /= count\n",
    "    return mean, std, count\"\"\""
   ]
  },
  {
   "cell_type": "code",
   "execution_count": 4,
   "id": "9266d566-4433-433d-b334-0132a6ac514e",
   "metadata": {},
   "outputs": [],
   "source": [
    "img_dim = (224,224)"
   ]
  },
  {
   "cell_type": "code",
   "execution_count": 5,
   "id": "33259a65-ef22-4079-8da6-97b8e8df4e1c",
   "metadata": {},
   "outputs": [],
   "source": [
    "train_transforms = transforms.Compose([\n",
    "    transforms.Resize((224, 224)),                 \n",
    "    transforms.RandomResizedCrop(224, scale=(0.8, 1.0)),  \n",
    "    transforms.RandomHorizontalFlip(),                       \n",
    "    transforms.ToTensor(),\n",
    "    #transforms.Lambda(lambda x: x / 255.0)\n",
    "])\n",
    "test_transforms = transforms.Compose([\n",
    "    transforms.Resize(img_dim),    \n",
    "    transforms.ToTensor(),\n",
    "    #transforms.Lambda(lambda x: x / 255.0)\n",
    "])"
   ]
  },
  {
   "cell_type": "code",
   "execution_count": 6,
   "id": "fa178be8-a51c-4645-9e77-542de80719fb",
   "metadata": {},
   "outputs": [],
   "source": [
    "def checkImage(path):\n",
    "    im = Image.open(path)\n",
    "    return True\n",
    "\n",
    "train_dataset = torchvision.datasets.ImageFolder(root=train_dir,\n",
    "                                              transform=train_transforms,\n",
    "                                              is_valid_file=checkImage)\n",
    "\n",
    "test_dataset = torchvision.datasets.ImageFolder(root=test_dir,\n",
    "                                             transform=test_transforms,\n",
    "                                             is_valid_file=checkImage)"
   ]
  },
  {
   "cell_type": "code",
   "execution_count": 7,
   "id": "b1cfd15d-ff41-4248-9f9c-042d2324ce10",
   "metadata": {},
   "outputs": [],
   "source": [
    "labels = [label for _, label in train_dataset]\n",
    "class_weights = compute_class_weight(class_weight='balanced', classes=np.unique(labels), y=labels)\n",
    "\n",
    "weighted_sampler = torch.utils.data.sampler.WeightedRandomSampler(class_weights, len(train_dataset), replacement=True)"
   ]
  },
  {
   "cell_type": "code",
   "execution_count": 8,
   "id": "67aea952-6b25-4c32-9a33-5a8e4a079100",
   "metadata": {},
   "outputs": [],
   "source": [
    "total_samples = len(train_dataset)\n",
    "classes = len(train_dataset.classes)\n",
    "class_counts = [0] * classes\n",
    "class_names = train_dataset.classes"
   ]
  },
  {
   "cell_type": "code",
   "execution_count": 9,
   "id": "10b55480-15e1-44c7-b79e-18d9f82bd829",
   "metadata": {},
   "outputs": [
    {
     "data": {
      "text/plain": [
       "['Acne and Rosacea',\n",
       " 'Bug Bites',\n",
       " 'Eczema',\n",
       " 'Hair Loss and Diseases',\n",
       " 'Melanoma Skin Cancer Nevi and Moles',\n",
       " 'Nail Fungus and Disease']"
      ]
     },
     "execution_count": 9,
     "metadata": {},
     "output_type": "execute_result"
    }
   ],
   "source": [
    "class_names"
   ]
  },
  {
   "cell_type": "code",
   "execution_count": 10,
   "id": "835f50c3-b60c-4029-b7a6-8427e3003bde",
   "metadata": {},
   "outputs": [],
   "source": [
    "BATCH_SIZE = 32\n",
    "train_data_loader = torch.utils.data.DataLoader(train_dataset, batch_size=BATCH_SIZE, shuffle=True)\n",
    "test_data_loader  = torch.utils.data.DataLoader(test_dataset, batch_size=BATCH_SIZE, shuffle=False)"
   ]
  },
  {
   "cell_type": "markdown",
   "id": "8393dc54-617b-48f7-9619-3c1ec004d5c0",
   "metadata": {},
   "source": [
    "### 3) Model"
   ]
  },
  {
   "cell_type": "code",
   "execution_count": 11,
   "id": "2a89270d-2ed6-47f5-b8ac-6f8225b8b428",
   "metadata": {
    "scrolled": true
   },
   "outputs": [],
   "source": [
    "def set_device():\n",
    "    if torch.cuda.is_available():\n",
    "       dev = \"cuda\"\n",
    "    else:\n",
    "        dev = \"cpu\"\n",
    "    return torch.device(dev)"
   ]
  },
  {
   "cell_type": "code",
   "execution_count": 12,
   "id": "855c1180-175c-4b59-bcd7-97d29e2aa7aa",
   "metadata": {},
   "outputs": [],
   "source": [
    "densenet_201 = models.densenet201(weights=models.DenseNet201_Weights.DEFAULT)\n",
    "for param in densenet_201.parameters():\n",
    "    param.requires_grad = False\n",
    "num_features = densenet_201.classifier.in_features\n",
    "densenet_201.classifier = nn.Linear(num_features, classes)\n",
    "device = set_device()\n",
    "densenet_201 = densenet_201.to(device)"
   ]
  },
  {
   "cell_type": "code",
   "execution_count": 13,
   "id": "4718c123-b674-4576-b319-a9487a5348da",
   "metadata": {},
   "outputs": [],
   "source": [
    "resnet_152 = models.resnet152(weights=models.ResNet152_Weights.DEFAULT)\n",
    "for param in resnet_152.parameters():\n",
    "    param.requires_grad = False\n",
    "resnet_ftr = resnet_152.fc.in_features\n",
    "resnet_152.fc = nn.Linear(resnet_ftr,classes)\n",
    "device = set_device()\n",
    "resnet_152 = resnet_152.to(device)"
   ]
  },
  {
   "cell_type": "code",
   "execution_count": 14,
   "id": "6c63c740-82f1-47cc-942b-27081f3757b5",
   "metadata": {
    "scrolled": true
   },
   "outputs": [],
   "source": [
    "vgg_19 = models.vgg19(weights=models.VGG19_Weights.DEFAULT)\n",
    "for param in vgg_19.features.parameters():\n",
    "    param.requires_grad = False\n",
    "for param in vgg_19.classifier.parameters():\n",
    "    param.requires_grad = True\n",
    "vgg_19.classifier[6] = nn.Linear(vgg_19.classifier[6].in_features, classes)\n",
    "vgg_ftr = vgg_19.classifier[6].in_features\n",
    "vgg_19.fc = nn.Linear(vgg_ftr,classes)\n",
    "device = set_device()\n",
    "vgg_19 = vgg_19.to(device)"
   ]
  },
  {
   "cell_type": "code",
   "execution_count": 15,
   "id": "a84ceeb8-1343-4a35-9b95-3c246533d251",
   "metadata": {},
   "outputs": [],
   "source": [
    "learning_rate = 0.0001\n",
    "momentum = 0.9\n",
    "class_weights = torch.tensor(class_weights, dtype=torch.float32).to(device)\n",
    "\n",
    "w_criterion = nn.CrossEntropyLoss(weight=class_weights)\n",
    "criterion = nn.CrossEntropyLoss()\n",
    "\n",
    "densenet_optimizer = torch.optim.AdamW(densenet_201.parameters(), lr=0.001, weight_decay=0.0001)\n",
    "densenet_scheduler = optim.lr_scheduler.ReduceLROnPlateau(densenet_optimizer, factor=0.5, patience=2)\n",
    "\n",
    "resnet_optimizer = torch.optim.AdamW(resnet_152.parameters(), lr=0.001, weight_decay=0.0001)\n",
    "resnet_scheduler = optim.lr_scheduler.ReduceLROnPlateau(resnet_optimizer, factor=0.5, patience=2)\n",
    "\n",
    "vgg_optimizer = torch.optim.AdamW(vgg_19.parameters(), lr=0.001, weight_decay=0.0001)\n",
    "vgg_scheduler = optim.lr_scheduler.ReduceLROnPlateau(vgg_optimizer, factor=0.5, patience=2)\n",
    "\n",
    "optim1 = optim.SGD(densenet_201.parameters(), lr=learning_rate, momentum=momentum)\n",
    "optim2 = optim.SGD(resnet_152.parameters(), lr=learning_rate, momentum=momentum)\n",
    "optim3 = optim.SGD(vgg_19.parameters(), lr=learning_rate, momentum=momentum)\n",
    "\n",
    "dn_scheduler = OneCycleLR(optim1, max_lr=0.01, steps_per_epoch=len(train_data_loader), epochs=10)\n",
    "dn_scheduler = OneCycleLR(optim2, max_lr=0.01, steps_per_epoch=len(train_data_loader), epochs=10)\n",
    "vn_scheduler = OneCycleLR(optim3, max_lr=0.01, steps_per_epoch=len(train_data_loader), epochs=10)"
   ]
  },
  {
   "cell_type": "markdown",
   "id": "e182927a-f430-4934-afce-d4d8c6a82d98",
   "metadata": {},
   "source": [
    "### 4) Training"
   ]
  },
  {
   "cell_type": "code",
   "execution_count": 16,
   "id": "9d34c3c0-502b-4263-abd5-6a80f30abd16",
   "metadata": {},
   "outputs": [],
   "source": [
    "def cross_validate(model, dataset, criterion, optimizer, scheduler, model_name, epochs, k_folds=5):\n",
    "    device = torch.device(\"cuda\" if torch.cuda.is_available() else \"cpu\")\n",
    "    print(f\"Training {k_folds} folds for {epochs} epochs each\")\n",
    "\n",
    "    skf = StratifiedKFold(n_splits=k_folds, shuffle=True, random_state=42)\n",
    "\n",
    "    fold_accuracies = []\n",
    "\n",
    "    for fold_idx, (train_idx, test_idx) in enumerate(skf.split(dataset.targets, dataset.targets)):\n",
    "        print(f\"Fold {fold_idx + 1}/{k_folds}\")\n",
    "\n",
    "        train_subsampler = SubsetRandomSampler(train_idx)\n",
    "        test_subsampler = SubsetRandomSampler(test_idx)\n",
    "\n",
    "        train_loader = DataLoader(dataset, batch_size=32, sampler=train_subsampler)\n",
    "        test_loader = DataLoader(dataset, batch_size=32, sampler=test_subsampler)\n",
    "\n",
    "        model = train_model(model, train_loader, test_loader, criterion, optimizer, scheduler, model_name, epochs)\n",
    "\n",
    "        accuracy = evaluate_model(model, test_loader)\n",
    "        fold_accuracies.append(accuracy)\n",
    "\n",
    "    avg_accuracy = sum(fold_accuracies) / k_folds\n",
    "    print(f\"Average accuracy across {k_folds} folds: {avg_accuracy:.3f}\")\n",
    "\n",
    "    return avg_accuracy"
   ]
  },
  {
   "cell_type": "code",
   "execution_count": 17,
   "id": "24db5646-c709-43a5-95ab-412c8355f2d3",
   "metadata": {},
   "outputs": [],
   "source": [
    "def train_model(model, train_loader, test_loader, criterion, optimizer, scheduler, model_name, epochs):\n",
    "    device = torch.device(\"cuda\" if torch.cuda.is_available() else \"cpu\")\n",
    "    best_acc = 0.0\n",
    "\n",
    "    for epoch in range(epochs):\n",
    "        print(\"Epoch number %d\" % (epoch + 1))\n",
    "        model.train()\n",
    "        n_loss = 0.0\n",
    "        n_correct = 0.0\n",
    "        total = 0\n",
    "\n",
    "        progress_bar = tqdm(enumerate(train_loader), total=len(train_loader))\n",
    "\n",
    "        for i, data in progress_bar:\n",
    "            images, labels = data\n",
    "            images = images.to(device)\n",
    "            labels = labels.to(device)\n",
    "            total += labels.size(0)\n",
    "\n",
    "            optimizer.zero_grad()\n",
    "            outputs = model(images)\n",
    "            _, predicted = torch.max(outputs.data, 1)\n",
    "            loss = criterion(outputs, labels)\n",
    "            loss.backward()\n",
    "            torch.nn.utils.clip_grad_norm_(model.parameters(), max_norm=1)\n",
    "            optimizer.step()\n",
    "\n",
    "            n_loss += loss.item()\n",
    "            n_correct += (labels == predicted).sum().item()\n",
    "\n",
    "            epoch_loss = n_loss / (i + 1)\n",
    "            epoch_acc = 100.0 * n_correct / total\n",
    "            progress_bar.set_description(f\"Loss: {epoch_loss:.3f}, Acc: {epoch_acc:.3f}%\")\n",
    "\n",
    "        print(\"Training Dataset got %d out of %d images correctly (%.3f%%). Epoch loss: %.3f\"\n",
    "              % (n_correct, total, epoch_acc, epoch_loss))\n",
    "\n",
    "        test_acc = evaluate_model(model, test_loader)\n",
    "        scheduler.step(test_acc)\n",
    "        if test_acc > best_acc:\n",
    "            best_acc = test_acc\n",
    "            save_checkpoint(model, epoch, optimizer, best_acc, model_name)\n",
    "            print(f\"=> new accuracy of {best_acc} saved\")\n",
    "\n",
    "        print(\"Done\")\n",
    "\n",
    "    return model"
   ]
  },
  {
   "cell_type": "code",
   "execution_count": 15,
   "id": "acbae3d1-75da-42dd-aa54-05d3424104ce",
   "metadata": {},
   "outputs": [],
   "source": [
    "def evaluate_model(model, test_loader):\n",
    "    model.eval()\n",
    "    predicted_correct = 0\n",
    "    total = 0\n",
    "    device = torch.device(\"cuda\" if torch.cuda.is_available() else \"cpu\")\n",
    "\n",
    "    progress_bar = tqdm(enumerate(test_loader), total=len(test_loader))\n",
    "\n",
    "    with torch.no_grad():\n",
    "        for _, data in progress_bar:\n",
    "            images, labels = data\n",
    "            images = images.to(device)\n",
    "            labels = labels.to(device)\n",
    "            total += labels.size(0)\n",
    "            outputs = model(images)\n",
    "            _, predicted = torch.max(outputs.data, 1)\n",
    "            predicted_correct += (labels == predicted).sum().item()\n",
    "\n",
    "            epoch_acc = 100.0 * predicted_correct / total\n",
    "            progress_bar.set_description(f\"Acc: {epoch_acc:.3f}%\")\n",
    "\n",
    "    print(f\"Testing Dataset got {predicted_correct} out of {total} images correctly ({epoch_acc:.3f}%).\")\n",
    "    return epoch_acc"
   ]
  },
  {
   "cell_type": "code",
   "execution_count": 16,
   "id": "9bce61cd-6d20-4f60-9bc3-f7ca9bf31fed",
   "metadata": {},
   "outputs": [],
   "source": [
    "def plot_confusion_matrix(cm, classes, normalize=True, title='Confusion matrix', cmap=plt.cm.Blues):\n",
    "    \"\"\"\n",
    "    This function prints and plots the confusion matrix.\n",
    "    Normalization can be applied by setting `normalize=True`.\n",
    "    \"\"\"\n",
    "    if normalize:\n",
    "        cm = cm.astype('float') / cm.sum(axis=1)[:, np.newaxis]\n",
    "        print(\"Normalized confusion matrix\")\n",
    "    else:\n",
    "        print('Confusion matrix, without normalization')\n",
    "\n",
    "    plt.figure(figsize=(14, 12))  \n",
    "    plt.imshow(cm, interpolation='nearest', cmap=cmap)\n",
    "    plt.title(title)\n",
    "    plt.colorbar()\n",
    "    tick_marks = np.arange(len(classes))\n",
    "    plt.xticks(tick_marks, classes, rotation=90)  \n",
    "    plt.yticks(tick_marks, classes)\n",
    "\n",
    "    fmt = '.2f' if normalize else 'd'\n",
    "    thresh = cm.max() / 2.\n",
    "    for i, j in itertools.product(range(cm.shape[0]), range(cm.shape[1])):\n",
    "        plt.text(j, i, format(cm[i, j], fmt),\n",
    "                 horizontalalignment=\"center\",\n",
    "                 color=\"white\" if cm[i, j] > thresh else \"black\")\n",
    "\n",
    "    plt.tight_layout()\n",
    "    plt.ylabel('True label')\n",
    "    plt.xlabel('Predicted label')\n",
    "    plt.show()"
   ]
  },
  {
   "cell_type": "code",
   "execution_count": 17,
   "id": "e954a46e-1af0-4381-9df7-51b00954a25b",
   "metadata": {},
   "outputs": [],
   "source": [
    "def plot_learning_curves(model):\n",
    "    train_losses = model.train_losses\n",
    "    train_accuracies = model.train_accuracies\n",
    "    val_losses = model.val_losses\n",
    "    val_accuracies = model.val_accuracies\n",
    "    \n",
    "    epochs = len(train_losses)\n",
    "    \n",
    "    plt.figure(figsize=(12, 5))\n",
    "    \n",
    "    # Plotting losses\n",
    "    plt.subplot(1, 2, 1)\n",
    "    plt.plot(range(1, epochs + 1), train_losses, label='Train')\n",
    "    plt.plot(range(1, epochs + 1), val_losses, label='Validation')\n",
    "    plt.title(f'{type(model).__name__} Loss')\n",
    "    plt.xlabel('Epochs')\n",
    "    plt.ylabel('Loss')\n",
    "    plt.legend()\n",
    "    \n",
    "    # Plotting accuracies\n",
    "    plt.subplot(1, 2, 2)\n",
    "    plt.plot(range(1, epochs + 1), train_accuracies, label='Train')\n",
    "    plt.plot(range(1, epochs + 1), val_accuracies, label='Validation')\n",
    "    plt.title(f'{type(model).__name__} Accuracy')\n",
    "    plt.xlabel('Epochs')\n",
    "    plt.ylabel('Accuracy')\n",
    "    plt.legend()\n",
    "    \n",
    "    plt.tight_layout()\n",
    "    plt.show()"
   ]
  },
  {
   "cell_type": "code",
   "execution_count": 18,
   "id": "b6bdb197-ec3c-406d-9f83-880e826f7e98",
   "metadata": {},
   "outputs": [],
   "source": [
    "def compute_metrics(model, test_loader, classes):\n",
    "    device = torch.device(\"cuda\" if torch.cuda.is_available() else \"cpu\")\n",
    "    model = model.to(device)\n",
    "    model.eval()\n",
    "\n",
    "    all_predictions = []\n",
    "    all_targets = []\n",
    "\n",
    "    with torch.no_grad():\n",
    "        for images, labels in test_loader:\n",
    "            images = images.to(device)\n",
    "            labels = labels.to(device)\n",
    "            outputs = model(images)\n",
    "            _, predicted = torch.max(outputs, 1)\n",
    "            all_predictions.extend(predicted.cpu().numpy())\n",
    "            all_targets.extend(labels.cpu().numpy())\n",
    "\n",
    "    cm = confusion_matrix(all_targets, all_predictions)\n",
    "\n",
    "    plot_confusion_matrix(cm, classes)\n",
    "\n",
    "    report = classification_report(all_targets, all_predictions, target_names=classes, output_dict=False)\n",
    "    print(\"Classification Report:\")\n",
    "    print(report)\n",
    "\n",
    "    return report, cm"
   ]
  },
  {
   "cell_type": "code",
   "execution_count": 19,
   "id": "0da05d81-075c-4c32-93fb-f9f37b2f03f3",
   "metadata": {},
   "outputs": [],
   "source": [
    "def compute_metrics2(model, test_loader, classes):\n",
    "    device = torch.device(\"cuda\" if torch.cuda.is_available() else \"cpu\")\n",
    "    model = model.to(device)\n",
    "    model.eval()\n",
    "\n",
    "    all_predictions = []\n",
    "    all_targets = []\n",
    "\n",
    "    with torch.no_grad():\n",
    "        for images, labels in test_loader:\n",
    "            images = images.to(device)\n",
    "            labels = labels.to(device)\n",
    "            outputs = model(images)\n",
    "            _, predicted = torch.max(outputs, 1)\n",
    "            all_predictions.extend(predicted.cpu().numpy())\n",
    "            all_targets.extend(labels.cpu().numpy())\n",
    "\n",
    "    cm = confusion_matrix(all_targets, all_predictions)\n",
    "\n",
    "    plot_confusion_matrix(cm, classes)\n",
    "\n",
    "    report = classification_report(all_targets, all_predictions, target_names=classes, output_dict=True)\n",
    "    print(\"Classification Report:\")\n",
    "    print(report)\n",
    "\n",
    "    return report, cm"
   ]
  },
  {
   "cell_type": "code",
   "execution_count": 20,
   "id": "8e580473-558e-4751-9a42-18716b1b0b85",
   "metadata": {},
   "outputs": [],
   "source": [
    "def compare_and_plot(models, test_loader, classes):\n",
    "    results = []\n",
    "    model_names = []\n",
    "\n",
    "    for model in models:\n",
    "        model_name = type(model).__name__  \n",
    "        model_names.append(model_name)\n",
    "        \n",
    "        metrics, _ = compute_metrics2(model, test_loader, classes)\n",
    "        \n",
    "        accuracy = metrics['accuracy']\n",
    "        precision = metrics['weighted avg']['precision']\n",
    "        recall = metrics['weighted avg']['recall']\n",
    "        f1_score = metrics['weighted avg']['f1-score']\n",
    "        \n",
    "        results.append({\n",
    "            'model': model_name,\n",
    "            'accuracy': accuracy,\n",
    "            'precision': precision,\n",
    "            'recall': recall,\n",
    "            'f1-score': f1_score\n",
    "        })\n",
    "        \n",
    "        print(f\"Metrics for {model_name}:\")\n",
    "        print(f\"Accuracy: {accuracy:.3f}\")\n",
    "        print(f\"Precision: {precision:.3f}\")\n",
    "        print(f\"Recall: {recall:.3f}\")\n",
    "        print(f\"F1-score: {f1_score:.3f}\")\n",
    "        print(\"-----------------------\")\n",
    "\n",
    "    plot_metrics_comparison(results, model_names)"
   ]
  },
  {
   "cell_type": "code",
   "execution_count": 21,
   "id": "f35c5d42-1967-4fef-a4d4-2fec6a1c65aa",
   "metadata": {},
   "outputs": [],
   "source": [
    "def plot_metrics_comparison(results, model_names):\n",
    "    metrics = ['accuracy', 'precision', 'recall', 'f1-score']\n",
    "    num_metrics = len(metrics)\n",
    "    num_models = len(results)\n",
    "    bar_width = 0.15\n",
    "    index = np.arange(num_metrics)\n",
    "\n",
    "    fig = plt.figure(figsize=(12, 8))\n",
    "    ax = fig.add_subplot(111)\n",
    "\n",
    "    colors = ['b', 'g', 'r', 'c', 'm', 'y']  \n",
    "    for i, (result, color) in enumerate(zip(results, colors[:num_models])):\n",
    "        values = [result[metric] for metric in metrics]\n",
    "        ax.bar(index + i * bar_width, values, bar_width, color=color, label=model_names[i])\n",
    "\n",
    "    ax.set_xlabel('Metrics')\n",
    "    ax.set_ylabel('Score')\n",
    "    ax.set_xticks(index + bar_width * (num_models - 1) / 2)\n",
    "    ax.set_xticklabels(metrics)\n",
    "    ax.legend()\n",
    "\n",
    "    plt.title('Comparison of Model Metrics')\n",
    "    plt.tight_layout()\n",
    "    plt.show()"
   ]
  },
  {
   "cell_type": "code",
   "execution_count": 22,
   "id": "cc772559-00d5-43d1-9ddd-79e36b119dfb",
   "metadata": {},
   "outputs": [],
   "source": [
    "def save_checkpoint(model, epoch, optimizer, best_acc, model_name):\n",
    "    state = {\n",
    "       'epoch': epoch + 1,\n",
    "       'model': model.state_dict(),\n",
    "       'best_acc': best_acc,\n",
    "       'optimizer': optimizer.state_dict(),\n",
    "    }\n",
    "    filename = f\"{model_name}_model_best_acc.pth.tar\"\n",
    "    torch.save(state, filename)"
   ]
  },
  {
   "cell_type": "code",
   "execution_count": 27,
   "id": "958eb998-618d-4491-9862-0ec1eb141624",
   "metadata": {
    "scrolled": true
   },
   "outputs": [
    {
     "name": "stdout",
     "output_type": "stream",
     "text": [
      "Training 5 folds for 10 epochs each\n",
      "Fold 1/5\n",
      "Epoch number 1\n"
     ]
    },
    {
     "name": "stderr",
     "output_type": "stream",
     "text": [
      "Loss: 1.126, Acc: 61.586%: 100%|██████████| 122/122 [00:55<00:00,  2.18it/s]\n"
     ]
    },
    {
     "name": "stdout",
     "output_type": "stream",
     "text": [
      "Training Dataset got 2392 out of 3884 images correctly (61.586%). Epoch loss: 1.126\n"
     ]
    },
    {
     "name": "stderr",
     "output_type": "stream",
     "text": [
      "Acc: 75.514%: 100%|██████████| 31/31 [00:12<00:00,  2.53it/s]\n"
     ]
    },
    {
     "name": "stdout",
     "output_type": "stream",
     "text": [
      "Testing Dataset got 734 out of 972 images correctly (75.514%).\n",
      "=> new accuracy of 75.51440329218107 saved\n",
      "Done\n",
      "Epoch number 2\n"
     ]
    },
    {
     "name": "stderr",
     "output_type": "stream",
     "text": [
      "Loss: 0.784, Acc: 74.073%: 100%|██████████| 122/122 [00:50<00:00,  2.40it/s]\n"
     ]
    },
    {
     "name": "stdout",
     "output_type": "stream",
     "text": [
      "Training Dataset got 2877 out of 3884 images correctly (74.073%). Epoch loss: 0.784\n"
     ]
    },
    {
     "name": "stderr",
     "output_type": "stream",
     "text": [
      "Acc: 73.868%: 100%|██████████| 31/31 [00:12<00:00,  2.53it/s]\n"
     ]
    },
    {
     "name": "stdout",
     "output_type": "stream",
     "text": [
      "Testing Dataset got 718 out of 972 images correctly (73.868%).\n",
      "Done\n",
      "Epoch number 3\n"
     ]
    },
    {
     "name": "stderr",
     "output_type": "stream",
     "text": [
      "Loss: 0.703, Acc: 75.489%: 100%|██████████| 122/122 [00:50<00:00,  2.41it/s]\n"
     ]
    },
    {
     "name": "stdout",
     "output_type": "stream",
     "text": [
      "Training Dataset got 2932 out of 3884 images correctly (75.489%). Epoch loss: 0.703\n"
     ]
    },
    {
     "name": "stderr",
     "output_type": "stream",
     "text": [
      "Acc: 78.498%: 100%|██████████| 31/31 [00:12<00:00,  2.51it/s]\n"
     ]
    },
    {
     "name": "stdout",
     "output_type": "stream",
     "text": [
      "Testing Dataset got 763 out of 972 images correctly (78.498%).\n",
      "=> new accuracy of 78.49794238683127 saved\n",
      "Done\n",
      "Epoch number 4\n"
     ]
    },
    {
     "name": "stderr",
     "output_type": "stream",
     "text": [
      "Loss: 0.649, Acc: 77.420%: 100%|██████████| 122/122 [00:50<00:00,  2.40it/s]\n"
     ]
    },
    {
     "name": "stdout",
     "output_type": "stream",
     "text": [
      "Training Dataset got 3007 out of 3884 images correctly (77.420%). Epoch loss: 0.649\n"
     ]
    },
    {
     "name": "stderr",
     "output_type": "stream",
     "text": [
      "Acc: 78.498%: 100%|██████████| 31/31 [00:12<00:00,  2.53it/s]\n"
     ]
    },
    {
     "name": "stdout",
     "output_type": "stream",
     "text": [
      "Testing Dataset got 763 out of 972 images correctly (78.498%).\n",
      "Done\n",
      "Epoch number 5\n"
     ]
    },
    {
     "name": "stderr",
     "output_type": "stream",
     "text": [
      "Loss: 0.613, Acc: 78.682%: 100%|██████████| 122/122 [00:50<00:00,  2.43it/s]\n"
     ]
    },
    {
     "name": "stdout",
     "output_type": "stream",
     "text": [
      "Training Dataset got 3056 out of 3884 images correctly (78.682%). Epoch loss: 0.613\n"
     ]
    },
    {
     "name": "stderr",
     "output_type": "stream",
     "text": [
      "Acc: 78.909%: 100%|██████████| 31/31 [00:12<00:00,  2.56it/s]\n"
     ]
    },
    {
     "name": "stdout",
     "output_type": "stream",
     "text": [
      "Testing Dataset got 767 out of 972 images correctly (78.909%).\n",
      "=> new accuracy of 78.90946502057614 saved\n",
      "Done\n",
      "Epoch number 6\n"
     ]
    },
    {
     "name": "stderr",
     "output_type": "stream",
     "text": [
      "Loss: 0.566, Acc: 80.355%: 100%|██████████| 122/122 [00:50<00:00,  2.42it/s]\n"
     ]
    },
    {
     "name": "stdout",
     "output_type": "stream",
     "text": [
      "Training Dataset got 3121 out of 3884 images correctly (80.355%). Epoch loss: 0.566\n"
     ]
    },
    {
     "name": "stderr",
     "output_type": "stream",
     "text": [
      "Acc: 80.350%: 100%|██████████| 31/31 [00:12<00:00,  2.53it/s]\n"
     ]
    },
    {
     "name": "stdout",
     "output_type": "stream",
     "text": [
      "Testing Dataset got 781 out of 972 images correctly (80.350%).\n",
      "=> new accuracy of 80.34979423868313 saved\n",
      "Done\n",
      "Epoch number 7\n"
     ]
    },
    {
     "name": "stderr",
     "output_type": "stream",
     "text": [
      "Loss: 0.561, Acc: 80.613%: 100%|██████████| 122/122 [00:50<00:00,  2.44it/s]\n"
     ]
    },
    {
     "name": "stdout",
     "output_type": "stream",
     "text": [
      "Training Dataset got 3131 out of 3884 images correctly (80.613%). Epoch loss: 0.561\n"
     ]
    },
    {
     "name": "stderr",
     "output_type": "stream",
     "text": [
      "Acc: 79.938%: 100%|██████████| 31/31 [00:12<00:00,  2.56it/s]\n"
     ]
    },
    {
     "name": "stdout",
     "output_type": "stream",
     "text": [
      "Testing Dataset got 777 out of 972 images correctly (79.938%).\n",
      "Done\n",
      "Epoch number 8\n"
     ]
    },
    {
     "name": "stderr",
     "output_type": "stream",
     "text": [
      "Loss: 0.540, Acc: 80.742%: 100%|██████████| 122/122 [00:49<00:00,  2.44it/s]\n"
     ]
    },
    {
     "name": "stdout",
     "output_type": "stream",
     "text": [
      "Training Dataset got 3136 out of 3884 images correctly (80.742%). Epoch loss: 0.540\n"
     ]
    },
    {
     "name": "stderr",
     "output_type": "stream",
     "text": [
      "Acc: 80.453%: 100%|██████████| 31/31 [00:12<00:00,  2.55it/s]\n"
     ]
    },
    {
     "name": "stdout",
     "output_type": "stream",
     "text": [
      "Testing Dataset got 782 out of 972 images correctly (80.453%).\n",
      "=> new accuracy of 80.45267489711934 saved\n",
      "Done\n",
      "Epoch number 9\n"
     ]
    },
    {
     "name": "stderr",
     "output_type": "stream",
     "text": [
      "Loss: 0.519, Acc: 81.385%: 100%|██████████| 122/122 [00:49<00:00,  2.44it/s]\n"
     ]
    },
    {
     "name": "stdout",
     "output_type": "stream",
     "text": [
      "Training Dataset got 3161 out of 3884 images correctly (81.385%). Epoch loss: 0.519\n"
     ]
    },
    {
     "name": "stderr",
     "output_type": "stream",
     "text": [
      "Acc: 79.630%: 100%|██████████| 31/31 [00:12<00:00,  2.53it/s]\n"
     ]
    },
    {
     "name": "stdout",
     "output_type": "stream",
     "text": [
      "Testing Dataset got 774 out of 972 images correctly (79.630%).\n",
      "Done\n",
      "Epoch number 10\n"
     ]
    },
    {
     "name": "stderr",
     "output_type": "stream",
     "text": [
      "Loss: 0.531, Acc: 80.922%: 100%|██████████| 122/122 [00:49<00:00,  2.44it/s]\n"
     ]
    },
    {
     "name": "stdout",
     "output_type": "stream",
     "text": [
      "Training Dataset got 3143 out of 3884 images correctly (80.922%). Epoch loss: 0.531\n"
     ]
    },
    {
     "name": "stderr",
     "output_type": "stream",
     "text": [
      "Acc: 79.321%: 100%|██████████| 31/31 [00:12<00:00,  2.55it/s]\n"
     ]
    },
    {
     "name": "stdout",
     "output_type": "stream",
     "text": [
      "Testing Dataset got 771 out of 972 images correctly (79.321%).\n",
      "Done\n"
     ]
    },
    {
     "name": "stderr",
     "output_type": "stream",
     "text": [
      "Acc: 79.835%: 100%|██████████| 31/31 [00:11<00:00,  2.59it/s]\n"
     ]
    },
    {
     "name": "stdout",
     "output_type": "stream",
     "text": [
      "Testing Dataset got 776 out of 972 images correctly (79.835%).\n",
      "Fold 2/5\n",
      "Epoch number 1\n"
     ]
    },
    {
     "name": "stderr",
     "output_type": "stream",
     "text": [
      "Loss: 0.550, Acc: 81.276%:  99%|█████████▉| 121/122 [00:50<00:00,  2.37it/s]C:\\Users\\SAMU\\anaconda3\\envs\\dermanet-env\\lib\\site-packages\\torch\\nn\\modules\\conv.py:456: UserWarning: Plan failed with a cudnnException: CUDNN_BACKEND_EXECUTION_PLAN_DESCRIPTOR: cudnnFinalize Descriptor Failed cudnn_status: CUDNN_STATUS_NOT_SUPPORTED (Triggered internally at C:\\cb\\pytorch_1000000000000\\work\\aten\\src\\ATen\\native\\cudnn\\Conv_v8.cpp:919.)\n",
      "  return F.conv2d(input, weight, bias, self.stride,\n",
      "Loss: 0.550, Acc: 81.287%: 100%|██████████| 122/122 [00:50<00:00,  2.43it/s]\n"
     ]
    },
    {
     "name": "stdout",
     "output_type": "stream",
     "text": [
      "Training Dataset got 3158 out of 3885 images correctly (81.287%). Epoch loss: 0.550\n"
     ]
    },
    {
     "name": "stderr",
     "output_type": "stream",
     "text": [
      "Acc: 82.080%: 100%|██████████| 31/31 [00:12<00:00,  2.53it/s]\n"
     ]
    },
    {
     "name": "stdout",
     "output_type": "stream",
     "text": [
      "Testing Dataset got 797 out of 971 images correctly (82.080%).\n",
      "=> new accuracy of 82.08032955715757 saved\n",
      "Done\n",
      "Epoch number 2\n"
     ]
    },
    {
     "name": "stderr",
     "output_type": "stream",
     "text": [
      "Loss: 0.537, Acc: 81.931%: 100%|██████████| 122/122 [00:49<00:00,  2.45it/s]\n"
     ]
    },
    {
     "name": "stdout",
     "output_type": "stream",
     "text": [
      "Training Dataset got 3183 out of 3885 images correctly (81.931%). Epoch loss: 0.537\n"
     ]
    },
    {
     "name": "stderr",
     "output_type": "stream",
     "text": [
      "Acc: 81.771%: 100%|██████████| 31/31 [00:12<00:00,  2.56it/s]\n"
     ]
    },
    {
     "name": "stdout",
     "output_type": "stream",
     "text": [
      "Testing Dataset got 794 out of 971 images correctly (81.771%).\n",
      "Done\n",
      "Epoch number 3\n"
     ]
    },
    {
     "name": "stderr",
     "output_type": "stream",
     "text": [
      "Loss: 0.540, Acc: 80.952%: 100%|██████████| 122/122 [00:49<00:00,  2.44it/s]\n"
     ]
    },
    {
     "name": "stdout",
     "output_type": "stream",
     "text": [
      "Training Dataset got 3145 out of 3885 images correctly (80.952%). Epoch loss: 0.540\n"
     ]
    },
    {
     "name": "stderr",
     "output_type": "stream",
     "text": [
      "Acc: 82.286%: 100%|██████████| 31/31 [00:12<00:00,  2.57it/s]\n"
     ]
    },
    {
     "name": "stdout",
     "output_type": "stream",
     "text": [
      "Testing Dataset got 799 out of 971 images correctly (82.286%).\n",
      "=> new accuracy of 82.28630278063852 saved\n",
      "Done\n",
      "Epoch number 4\n"
     ]
    },
    {
     "name": "stderr",
     "output_type": "stream",
     "text": [
      "Loss: 0.518, Acc: 81.647%: 100%|██████████| 122/122 [00:49<00:00,  2.45it/s]\n"
     ]
    },
    {
     "name": "stdout",
     "output_type": "stream",
     "text": [
      "Training Dataset got 3172 out of 3885 images correctly (81.647%). Epoch loss: 0.518\n"
     ]
    },
    {
     "name": "stderr",
     "output_type": "stream",
     "text": [
      "Acc: 83.728%: 100%|██████████| 31/31 [00:12<00:00,  2.56it/s]\n"
     ]
    },
    {
     "name": "stdout",
     "output_type": "stream",
     "text": [
      "Testing Dataset got 813 out of 971 images correctly (83.728%).\n",
      "=> new accuracy of 83.72811534500515 saved\n",
      "Done\n",
      "Epoch number 5\n"
     ]
    },
    {
     "name": "stderr",
     "output_type": "stream",
     "text": [
      "Loss: 0.521, Acc: 81.596%: 100%|██████████| 122/122 [00:49<00:00,  2.46it/s]\n"
     ]
    },
    {
     "name": "stdout",
     "output_type": "stream",
     "text": [
      "Training Dataset got 3170 out of 3885 images correctly (81.596%). Epoch loss: 0.521\n"
     ]
    },
    {
     "name": "stderr",
     "output_type": "stream",
     "text": [
      "Acc: 83.110%: 100%|██████████| 31/31 [00:12<00:00,  2.58it/s]\n"
     ]
    },
    {
     "name": "stdout",
     "output_type": "stream",
     "text": [
      "Testing Dataset got 807 out of 971 images correctly (83.110%).\n",
      "Done\n",
      "Epoch number 6\n"
     ]
    },
    {
     "name": "stderr",
     "output_type": "stream",
     "text": [
      "Loss: 0.517, Acc: 82.136%: 100%|██████████| 122/122 [00:49<00:00,  2.46it/s]\n"
     ]
    },
    {
     "name": "stdout",
     "output_type": "stream",
     "text": [
      "Training Dataset got 3191 out of 3885 images correctly (82.136%). Epoch loss: 0.517\n"
     ]
    },
    {
     "name": "stderr",
     "output_type": "stream",
     "text": [
      "Acc: 81.668%: 100%|██████████| 31/31 [00:12<00:00,  2.55it/s]\n"
     ]
    },
    {
     "name": "stdout",
     "output_type": "stream",
     "text": [
      "Testing Dataset got 793 out of 971 images correctly (81.668%).\n",
      "Done\n",
      "Epoch number 7\n"
     ]
    },
    {
     "name": "stderr",
     "output_type": "stream",
     "text": [
      "Loss: 0.512, Acc: 82.265%: 100%|██████████| 122/122 [00:49<00:00,  2.46it/s]\n"
     ]
    },
    {
     "name": "stdout",
     "output_type": "stream",
     "text": [
      "Training Dataset got 3196 out of 3885 images correctly (82.265%). Epoch loss: 0.512\n"
     ]
    },
    {
     "name": "stderr",
     "output_type": "stream",
     "text": [
      "Acc: 82.286%: 100%|██████████| 31/31 [00:11<00:00,  2.59it/s]\n"
     ]
    },
    {
     "name": "stdout",
     "output_type": "stream",
     "text": [
      "Testing Dataset got 799 out of 971 images correctly (82.286%).\n",
      "Done\n",
      "Epoch number 8\n"
     ]
    },
    {
     "name": "stderr",
     "output_type": "stream",
     "text": [
      "Loss: 0.508, Acc: 82.728%: 100%|██████████| 122/122 [00:49<00:00,  2.46it/s]\n"
     ]
    },
    {
     "name": "stdout",
     "output_type": "stream",
     "text": [
      "Training Dataset got 3214 out of 3885 images correctly (82.728%). Epoch loss: 0.508\n"
     ]
    },
    {
     "name": "stderr",
     "output_type": "stream",
     "text": [
      "Acc: 81.462%: 100%|██████████| 31/31 [00:12<00:00,  2.57it/s]\n"
     ]
    },
    {
     "name": "stdout",
     "output_type": "stream",
     "text": [
      "Testing Dataset got 791 out of 971 images correctly (81.462%).\n",
      "Done\n",
      "Epoch number 9\n"
     ]
    },
    {
     "name": "stderr",
     "output_type": "stream",
     "text": [
      "Loss: 0.518, Acc: 81.879%: 100%|██████████| 122/122 [00:49<00:00,  2.46it/s]\n"
     ]
    },
    {
     "name": "stdout",
     "output_type": "stream",
     "text": [
      "Training Dataset got 3181 out of 3885 images correctly (81.879%). Epoch loss: 0.518\n"
     ]
    },
    {
     "name": "stderr",
     "output_type": "stream",
     "text": [
      "Acc: 81.256%: 100%|██████████| 31/31 [00:12<00:00,  2.57it/s]\n"
     ]
    },
    {
     "name": "stdout",
     "output_type": "stream",
     "text": [
      "Testing Dataset got 789 out of 971 images correctly (81.256%).\n",
      "Done\n",
      "Epoch number 10\n"
     ]
    },
    {
     "name": "stderr",
     "output_type": "stream",
     "text": [
      "Loss: 0.518, Acc: 81.931%: 100%|██████████| 122/122 [00:49<00:00,  2.46it/s]\n"
     ]
    },
    {
     "name": "stdout",
     "output_type": "stream",
     "text": [
      "Training Dataset got 3183 out of 3885 images correctly (81.931%). Epoch loss: 0.518\n"
     ]
    },
    {
     "name": "stderr",
     "output_type": "stream",
     "text": [
      "Acc: 81.153%: 100%|██████████| 31/31 [00:12<00:00,  2.55it/s]\n"
     ]
    },
    {
     "name": "stdout",
     "output_type": "stream",
     "text": [
      "Testing Dataset got 788 out of 971 images correctly (81.153%).\n",
      "Done\n"
     ]
    },
    {
     "name": "stderr",
     "output_type": "stream",
     "text": [
      "Acc: 81.462%: 100%|██████████| 31/31 [00:11<00:00,  2.58it/s]\n"
     ]
    },
    {
     "name": "stdout",
     "output_type": "stream",
     "text": [
      "Testing Dataset got 791 out of 971 images correctly (81.462%).\n",
      "Fold 3/5\n",
      "Epoch number 1\n"
     ]
    },
    {
     "name": "stderr",
     "output_type": "stream",
     "text": [
      "Loss: 0.531, Acc: 81.338%: 100%|██████████| 122/122 [00:49<00:00,  2.46it/s]\n"
     ]
    },
    {
     "name": "stdout",
     "output_type": "stream",
     "text": [
      "Training Dataset got 3160 out of 3885 images correctly (81.338%). Epoch loss: 0.531\n"
     ]
    },
    {
     "name": "stderr",
     "output_type": "stream",
     "text": [
      "Acc: 85.067%: 100%|██████████| 31/31 [00:12<00:00,  2.58it/s]\n"
     ]
    },
    {
     "name": "stdout",
     "output_type": "stream",
     "text": [
      "Testing Dataset got 826 out of 971 images correctly (85.067%).\n",
      "=> new accuracy of 85.0669412976313 saved\n",
      "Done\n",
      "Epoch number 2\n"
     ]
    },
    {
     "name": "stderr",
     "output_type": "stream",
     "text": [
      "Loss: 0.522, Acc: 81.107%: 100%|██████████| 122/122 [00:49<00:00,  2.46it/s]\n"
     ]
    },
    {
     "name": "stdout",
     "output_type": "stream",
     "text": [
      "Training Dataset got 3151 out of 3885 images correctly (81.107%). Epoch loss: 0.522\n"
     ]
    },
    {
     "name": "stderr",
     "output_type": "stream",
     "text": [
      "Acc: 86.509%: 100%|██████████| 31/31 [00:11<00:00,  2.59it/s]\n"
     ]
    },
    {
     "name": "stdout",
     "output_type": "stream",
     "text": [
      "Testing Dataset got 840 out of 971 images correctly (86.509%).\n",
      "=> new accuracy of 86.50875386199795 saved\n",
      "Done\n",
      "Epoch number 3\n"
     ]
    },
    {
     "name": "stderr",
     "output_type": "stream",
     "text": [
      "Loss: 0.528, Acc: 81.982%: 100%|██████████| 122/122 [00:49<00:00,  2.45it/s]\n"
     ]
    },
    {
     "name": "stdout",
     "output_type": "stream",
     "text": [
      "Training Dataset got 3185 out of 3885 images correctly (81.982%). Epoch loss: 0.528\n"
     ]
    },
    {
     "name": "stderr",
     "output_type": "stream",
     "text": [
      "Acc: 84.861%: 100%|██████████| 31/31 [00:11<00:00,  2.59it/s]\n"
     ]
    },
    {
     "name": "stdout",
     "output_type": "stream",
     "text": [
      "Testing Dataset got 824 out of 971 images correctly (84.861%).\n",
      "Done\n",
      "Epoch number 4\n"
     ]
    },
    {
     "name": "stderr",
     "output_type": "stream",
     "text": [
      "Loss: 0.518, Acc: 81.853%: 100%|██████████| 122/122 [00:49<00:00,  2.45it/s]\n"
     ]
    },
    {
     "name": "stdout",
     "output_type": "stream",
     "text": [
      "Training Dataset got 3180 out of 3885 images correctly (81.853%). Epoch loss: 0.518\n"
     ]
    },
    {
     "name": "stderr",
     "output_type": "stream",
     "text": [
      "Acc: 85.582%: 100%|██████████| 31/31 [00:11<00:00,  2.59it/s]\n"
     ]
    },
    {
     "name": "stdout",
     "output_type": "stream",
     "text": [
      "Testing Dataset got 831 out of 971 images correctly (85.582%).\n",
      "Done\n",
      "Epoch number 5\n"
     ]
    },
    {
     "name": "stderr",
     "output_type": "stream",
     "text": [
      "Loss: 0.525, Acc: 81.570%: 100%|██████████| 122/122 [00:49<00:00,  2.47it/s]\n"
     ]
    },
    {
     "name": "stdout",
     "output_type": "stream",
     "text": [
      "Training Dataset got 3169 out of 3885 images correctly (81.570%). Epoch loss: 0.525\n"
     ]
    },
    {
     "name": "stderr",
     "output_type": "stream",
     "text": [
      "Acc: 84.861%: 100%|██████████| 31/31 [00:12<00:00,  2.58it/s]\n"
     ]
    },
    {
     "name": "stdout",
     "output_type": "stream",
     "text": [
      "Testing Dataset got 824 out of 971 images correctly (84.861%).\n",
      "Done\n",
      "Epoch number 6\n"
     ]
    },
    {
     "name": "stderr",
     "output_type": "stream",
     "text": [
      "Loss: 0.537, Acc: 81.158%: 100%|██████████| 122/122 [00:49<00:00,  2.45it/s]\n"
     ]
    },
    {
     "name": "stdout",
     "output_type": "stream",
     "text": [
      "Training Dataset got 3153 out of 3885 images correctly (81.158%). Epoch loss: 0.537\n"
     ]
    },
    {
     "name": "stderr",
     "output_type": "stream",
     "text": [
      "Acc: 86.200%: 100%|██████████| 31/31 [00:11<00:00,  2.59it/s]\n"
     ]
    },
    {
     "name": "stdout",
     "output_type": "stream",
     "text": [
      "Testing Dataset got 837 out of 971 images correctly (86.200%).\n",
      "Done\n",
      "Epoch number 7\n"
     ]
    },
    {
     "name": "stderr",
     "output_type": "stream",
     "text": [
      "Loss: 0.528, Acc: 81.879%: 100%|██████████| 122/122 [00:49<00:00,  2.46it/s]\n"
     ]
    },
    {
     "name": "stdout",
     "output_type": "stream",
     "text": [
      "Training Dataset got 3181 out of 3885 images correctly (81.879%). Epoch loss: 0.528\n"
     ]
    },
    {
     "name": "stderr",
     "output_type": "stream",
     "text": [
      "Acc: 85.067%: 100%|██████████| 31/31 [00:12<00:00,  2.56it/s]\n"
     ]
    },
    {
     "name": "stdout",
     "output_type": "stream",
     "text": [
      "Testing Dataset got 826 out of 971 images correctly (85.067%).\n",
      "Done\n",
      "Epoch number 8\n"
     ]
    },
    {
     "name": "stderr",
     "output_type": "stream",
     "text": [
      "Loss: 0.520, Acc: 81.313%: 100%|██████████| 122/122 [00:49<00:00,  2.46it/s]\n"
     ]
    },
    {
     "name": "stdout",
     "output_type": "stream",
     "text": [
      "Training Dataset got 3159 out of 3885 images correctly (81.313%). Epoch loss: 0.520\n"
     ]
    },
    {
     "name": "stderr",
     "output_type": "stream",
     "text": [
      "Acc: 85.788%: 100%|██████████| 31/31 [00:12<00:00,  2.55it/s]\n"
     ]
    },
    {
     "name": "stdout",
     "output_type": "stream",
     "text": [
      "Testing Dataset got 833 out of 971 images correctly (85.788%).\n",
      "Done\n",
      "Epoch number 9\n"
     ]
    },
    {
     "name": "stderr",
     "output_type": "stream",
     "text": [
      "Loss: 0.513, Acc: 81.390%: 100%|██████████| 122/122 [00:49<00:00,  2.46it/s]\n"
     ]
    },
    {
     "name": "stdout",
     "output_type": "stream",
     "text": [
      "Training Dataset got 3162 out of 3885 images correctly (81.390%). Epoch loss: 0.513\n"
     ]
    },
    {
     "name": "stderr",
     "output_type": "stream",
     "text": [
      "Acc: 85.170%: 100%|██████████| 31/31 [00:11<00:00,  2.59it/s]\n"
     ]
    },
    {
     "name": "stdout",
     "output_type": "stream",
     "text": [
      "Testing Dataset got 827 out of 971 images correctly (85.170%).\n",
      "Done\n",
      "Epoch number 10\n"
     ]
    },
    {
     "name": "stderr",
     "output_type": "stream",
     "text": [
      "Loss: 0.519, Acc: 82.008%: 100%|██████████| 122/122 [00:49<00:00,  2.44it/s]\n"
     ]
    },
    {
     "name": "stdout",
     "output_type": "stream",
     "text": [
      "Training Dataset got 3186 out of 3885 images correctly (82.008%). Epoch loss: 0.519\n"
     ]
    },
    {
     "name": "stderr",
     "output_type": "stream",
     "text": [
      "Acc: 85.273%: 100%|██████████| 31/31 [00:11<00:00,  2.61it/s]\n"
     ]
    },
    {
     "name": "stdout",
     "output_type": "stream",
     "text": [
      "Testing Dataset got 828 out of 971 images correctly (85.273%).\n",
      "Done\n"
     ]
    },
    {
     "name": "stderr",
     "output_type": "stream",
     "text": [
      "Acc: 85.170%: 100%|██████████| 31/31 [00:12<00:00,  2.56it/s]\n"
     ]
    },
    {
     "name": "stdout",
     "output_type": "stream",
     "text": [
      "Testing Dataset got 827 out of 971 images correctly (85.170%).\n",
      "Fold 4/5\n",
      "Epoch number 1\n"
     ]
    },
    {
     "name": "stderr",
     "output_type": "stream",
     "text": [
      "Loss: 0.502, Acc: 82.368%: 100%|██████████| 122/122 [00:49<00:00,  2.45it/s]\n"
     ]
    },
    {
     "name": "stdout",
     "output_type": "stream",
     "text": [
      "Training Dataset got 3200 out of 3885 images correctly (82.368%). Epoch loss: 0.502\n"
     ]
    },
    {
     "name": "stderr",
     "output_type": "stream",
     "text": [
      "Acc: 83.625%: 100%|██████████| 31/31 [00:12<00:00,  2.55it/s]\n"
     ]
    },
    {
     "name": "stdout",
     "output_type": "stream",
     "text": [
      "Testing Dataset got 812 out of 971 images correctly (83.625%).\n",
      "=> new accuracy of 83.62512873326467 saved\n",
      "Done\n",
      "Epoch number 2\n"
     ]
    },
    {
     "name": "stderr",
     "output_type": "stream",
     "text": [
      "Loss: 0.507, Acc: 82.420%: 100%|██████████| 122/122 [00:49<00:00,  2.45it/s]\n"
     ]
    },
    {
     "name": "stdout",
     "output_type": "stream",
     "text": [
      "Training Dataset got 3202 out of 3885 images correctly (82.420%). Epoch loss: 0.507\n"
     ]
    },
    {
     "name": "stderr",
     "output_type": "stream",
     "text": [
      "Acc: 83.728%: 100%|██████████| 31/31 [00:12<00:00,  2.58it/s]\n"
     ]
    },
    {
     "name": "stdout",
     "output_type": "stream",
     "text": [
      "Testing Dataset got 813 out of 971 images correctly (83.728%).\n",
      "=> new accuracy of 83.72811534500515 saved\n",
      "Done\n",
      "Epoch number 3\n"
     ]
    },
    {
     "name": "stderr",
     "output_type": "stream",
     "text": [
      "Loss: 0.494, Acc: 82.420%: 100%|██████████| 122/122 [00:49<00:00,  2.45it/s]\n"
     ]
    },
    {
     "name": "stdout",
     "output_type": "stream",
     "text": [
      "Training Dataset got 3202 out of 3885 images correctly (82.420%). Epoch loss: 0.494\n"
     ]
    },
    {
     "name": "stderr",
     "output_type": "stream",
     "text": [
      "Acc: 83.419%: 100%|██████████| 31/31 [00:12<00:00,  2.54it/s]\n"
     ]
    },
    {
     "name": "stdout",
     "output_type": "stream",
     "text": [
      "Testing Dataset got 810 out of 971 images correctly (83.419%).\n",
      "Done\n",
      "Epoch number 4\n"
     ]
    },
    {
     "name": "stderr",
     "output_type": "stream",
     "text": [
      "Loss: 0.509, Acc: 81.802%: 100%|██████████| 122/122 [00:49<00:00,  2.45it/s]\n"
     ]
    },
    {
     "name": "stdout",
     "output_type": "stream",
     "text": [
      "Training Dataset got 3178 out of 3885 images correctly (81.802%). Epoch loss: 0.509\n"
     ]
    },
    {
     "name": "stderr",
     "output_type": "stream",
     "text": [
      "Acc: 83.934%: 100%|██████████| 31/31 [00:12<00:00,  2.58it/s]\n"
     ]
    },
    {
     "name": "stdout",
     "output_type": "stream",
     "text": [
      "Testing Dataset got 815 out of 971 images correctly (83.934%).\n",
      "=> new accuracy of 83.9340885684861 saved\n",
      "Done\n",
      "Epoch number 5\n"
     ]
    },
    {
     "name": "stderr",
     "output_type": "stream",
     "text": [
      "Loss: 0.493, Acc: 82.085%: 100%|██████████| 122/122 [00:49<00:00,  2.45it/s]\n"
     ]
    },
    {
     "name": "stdout",
     "output_type": "stream",
     "text": [
      "Training Dataset got 3189 out of 3885 images correctly (82.085%). Epoch loss: 0.493\n"
     ]
    },
    {
     "name": "stderr",
     "output_type": "stream",
     "text": [
      "Acc: 84.346%: 100%|██████████| 31/31 [00:11<00:00,  2.59it/s]\n"
     ]
    },
    {
     "name": "stdout",
     "output_type": "stream",
     "text": [
      "Testing Dataset got 819 out of 971 images correctly (84.346%).\n",
      "=> new accuracy of 84.346035015448 saved\n",
      "Done\n",
      "Epoch number 6\n"
     ]
    },
    {
     "name": "stderr",
     "output_type": "stream",
     "text": [
      "Loss: 0.511, Acc: 81.750%: 100%|██████████| 122/122 [00:49<00:00,  2.45it/s]\n"
     ]
    },
    {
     "name": "stdout",
     "output_type": "stream",
     "text": [
      "Training Dataset got 3176 out of 3885 images correctly (81.750%). Epoch loss: 0.511\n"
     ]
    },
    {
     "name": "stderr",
     "output_type": "stream",
     "text": [
      "Acc: 83.419%: 100%|██████████| 31/31 [00:12<00:00,  2.58it/s]\n"
     ]
    },
    {
     "name": "stdout",
     "output_type": "stream",
     "text": [
      "Testing Dataset got 810 out of 971 images correctly (83.419%).\n",
      "Done\n",
      "Epoch number 7\n"
     ]
    },
    {
     "name": "stderr",
     "output_type": "stream",
     "text": [
      "Loss: 0.504, Acc: 82.291%: 100%|██████████| 122/122 [00:49<00:00,  2.44it/s]\n"
     ]
    },
    {
     "name": "stdout",
     "output_type": "stream",
     "text": [
      "Training Dataset got 3197 out of 3885 images correctly (82.291%). Epoch loss: 0.504\n"
     ]
    },
    {
     "name": "stderr",
     "output_type": "stream",
     "text": [
      "Acc: 83.213%: 100%|██████████| 31/31 [00:12<00:00,  2.58it/s]\n"
     ]
    },
    {
     "name": "stdout",
     "output_type": "stream",
     "text": [
      "Testing Dataset got 808 out of 971 images correctly (83.213%).\n",
      "Done\n",
      "Epoch number 8\n"
     ]
    },
    {
     "name": "stderr",
     "output_type": "stream",
     "text": [
      "Loss: 0.511, Acc: 81.570%: 100%|██████████| 122/122 [00:49<00:00,  2.45it/s]\n"
     ]
    },
    {
     "name": "stdout",
     "output_type": "stream",
     "text": [
      "Training Dataset got 3169 out of 3885 images correctly (81.570%). Epoch loss: 0.511\n"
     ]
    },
    {
     "name": "stderr",
     "output_type": "stream",
     "text": [
      "Acc: 83.007%: 100%|██████████| 31/31 [00:12<00:00,  2.55it/s]\n"
     ]
    },
    {
     "name": "stdout",
     "output_type": "stream",
     "text": [
      "Testing Dataset got 806 out of 971 images correctly (83.007%).\n",
      "Done\n",
      "Epoch number 9\n"
     ]
    },
    {
     "name": "stderr",
     "output_type": "stream",
     "text": [
      "Loss: 0.499, Acc: 82.033%: 100%|██████████| 122/122 [00:49<00:00,  2.45it/s]\n"
     ]
    },
    {
     "name": "stdout",
     "output_type": "stream",
     "text": [
      "Training Dataset got 3187 out of 3885 images correctly (82.033%). Epoch loss: 0.499\n"
     ]
    },
    {
     "name": "stderr",
     "output_type": "stream",
     "text": [
      "Acc: 82.286%: 100%|██████████| 31/31 [00:12<00:00,  2.55it/s]\n"
     ]
    },
    {
     "name": "stdout",
     "output_type": "stream",
     "text": [
      "Testing Dataset got 799 out of 971 images correctly (82.286%).\n",
      "Done\n",
      "Epoch number 10\n"
     ]
    },
    {
     "name": "stderr",
     "output_type": "stream",
     "text": [
      "Loss: 0.507, Acc: 81.802%: 100%|██████████| 122/122 [00:49<00:00,  2.44it/s]\n"
     ]
    },
    {
     "name": "stdout",
     "output_type": "stream",
     "text": [
      "Training Dataset got 3178 out of 3885 images correctly (81.802%). Epoch loss: 0.507\n"
     ]
    },
    {
     "name": "stderr",
     "output_type": "stream",
     "text": [
      "Acc: 84.140%: 100%|██████████| 31/31 [00:12<00:00,  2.53it/s]\n"
     ]
    },
    {
     "name": "stdout",
     "output_type": "stream",
     "text": [
      "Testing Dataset got 817 out of 971 images correctly (84.140%).\n",
      "Done\n"
     ]
    },
    {
     "name": "stderr",
     "output_type": "stream",
     "text": [
      "Acc: 84.758%: 100%|██████████| 31/31 [00:12<00:00,  2.56it/s]\n"
     ]
    },
    {
     "name": "stdout",
     "output_type": "stream",
     "text": [
      "Testing Dataset got 823 out of 971 images correctly (84.758%).\n",
      "Fold 5/5\n",
      "Epoch number 1\n"
     ]
    },
    {
     "name": "stderr",
     "output_type": "stream",
     "text": [
      "Loss: 0.511, Acc: 82.033%: 100%|██████████| 122/122 [00:49<00:00,  2.44it/s]\n"
     ]
    },
    {
     "name": "stdout",
     "output_type": "stream",
     "text": [
      "Training Dataset got 3187 out of 3885 images correctly (82.033%). Epoch loss: 0.511\n"
     ]
    },
    {
     "name": "stderr",
     "output_type": "stream",
     "text": [
      "Acc: 83.934%: 100%|██████████| 31/31 [00:12<00:00,  2.57it/s]\n"
     ]
    },
    {
     "name": "stdout",
     "output_type": "stream",
     "text": [
      "Testing Dataset got 815 out of 971 images correctly (83.934%).\n",
      "=> new accuracy of 83.9340885684861 saved\n",
      "Done\n",
      "Epoch number 2\n"
     ]
    },
    {
     "name": "stderr",
     "output_type": "stream",
     "text": [
      "Loss: 0.512, Acc: 82.342%: 100%|██████████| 122/122 [00:49<00:00,  2.45it/s]\n"
     ]
    },
    {
     "name": "stdout",
     "output_type": "stream",
     "text": [
      "Training Dataset got 3199 out of 3885 images correctly (82.342%). Epoch loss: 0.512\n"
     ]
    },
    {
     "name": "stderr",
     "output_type": "stream",
     "text": [
      "Acc: 84.552%: 100%|██████████| 31/31 [00:12<00:00,  2.57it/s]\n"
     ]
    },
    {
     "name": "stdout",
     "output_type": "stream",
     "text": [
      "Testing Dataset got 821 out of 971 images correctly (84.552%).\n",
      "=> new accuracy of 84.55200823892893 saved\n",
      "Done\n",
      "Epoch number 3\n"
     ]
    },
    {
     "name": "stderr",
     "output_type": "stream",
     "text": [
      "Loss: 0.519, Acc: 81.596%: 100%|██████████| 122/122 [00:49<00:00,  2.45it/s]\n"
     ]
    },
    {
     "name": "stdout",
     "output_type": "stream",
     "text": [
      "Training Dataset got 3170 out of 3885 images correctly (81.596%). Epoch loss: 0.519\n"
     ]
    },
    {
     "name": "stderr",
     "output_type": "stream",
     "text": [
      "Acc: 84.243%: 100%|██████████| 31/31 [00:12<00:00,  2.56it/s]\n"
     ]
    },
    {
     "name": "stdout",
     "output_type": "stream",
     "text": [
      "Testing Dataset got 818 out of 971 images correctly (84.243%).\n",
      "Done\n",
      "Epoch number 4\n"
     ]
    },
    {
     "name": "stderr",
     "output_type": "stream",
     "text": [
      "Loss: 0.513, Acc: 81.905%: 100%|██████████| 122/122 [00:50<00:00,  2.44it/s]\n"
     ]
    },
    {
     "name": "stdout",
     "output_type": "stream",
     "text": [
      "Training Dataset got 3182 out of 3885 images correctly (81.905%). Epoch loss: 0.513\n"
     ]
    },
    {
     "name": "stderr",
     "output_type": "stream",
     "text": [
      "Acc: 85.170%: 100%|██████████| 31/31 [00:12<00:00,  2.56it/s]\n"
     ]
    },
    {
     "name": "stdout",
     "output_type": "stream",
     "text": [
      "Testing Dataset got 827 out of 971 images correctly (85.170%).\n",
      "=> new accuracy of 85.16992790937178 saved\n",
      "Done\n",
      "Epoch number 5\n"
     ]
    },
    {
     "name": "stderr",
     "output_type": "stream",
     "text": [
      "Loss: 0.512, Acc: 81.467%: 100%|██████████| 122/122 [00:49<00:00,  2.46it/s]\n"
     ]
    },
    {
     "name": "stdout",
     "output_type": "stream",
     "text": [
      "Training Dataset got 3165 out of 3885 images correctly (81.467%). Epoch loss: 0.512\n"
     ]
    },
    {
     "name": "stderr",
     "output_type": "stream",
     "text": [
      "Acc: 85.788%: 100%|██████████| 31/31 [00:12<00:00,  2.54it/s]\n"
     ]
    },
    {
     "name": "stdout",
     "output_type": "stream",
     "text": [
      "Testing Dataset got 833 out of 971 images correctly (85.788%).\n",
      "=> new accuracy of 85.78784757981462 saved\n",
      "Done\n",
      "Epoch number 6\n"
     ]
    },
    {
     "name": "stderr",
     "output_type": "stream",
     "text": [
      "Loss: 0.519, Acc: 81.776%: 100%|██████████| 122/122 [00:49<00:00,  2.44it/s]\n"
     ]
    },
    {
     "name": "stdout",
     "output_type": "stream",
     "text": [
      "Training Dataset got 3177 out of 3885 images correctly (81.776%). Epoch loss: 0.519\n"
     ]
    },
    {
     "name": "stderr",
     "output_type": "stream",
     "text": [
      "Acc: 84.552%: 100%|██████████| 31/31 [00:12<00:00,  2.56it/s]\n"
     ]
    },
    {
     "name": "stdout",
     "output_type": "stream",
     "text": [
      "Testing Dataset got 821 out of 971 images correctly (84.552%).\n",
      "Done\n",
      "Epoch number 7\n"
     ]
    },
    {
     "name": "stderr",
     "output_type": "stream",
     "text": [
      "Loss: 0.515, Acc: 81.776%: 100%|██████████| 122/122 [00:49<00:00,  2.47it/s]\n"
     ]
    },
    {
     "name": "stdout",
     "output_type": "stream",
     "text": [
      "Training Dataset got 3177 out of 3885 images correctly (81.776%). Epoch loss: 0.515\n"
     ]
    },
    {
     "name": "stderr",
     "output_type": "stream",
     "text": [
      "Acc: 85.788%: 100%|██████████| 31/31 [00:12<00:00,  2.58it/s]\n"
     ]
    },
    {
     "name": "stdout",
     "output_type": "stream",
     "text": [
      "Testing Dataset got 833 out of 971 images correctly (85.788%).\n",
      "Done\n",
      "Epoch number 8\n"
     ]
    },
    {
     "name": "stderr",
     "output_type": "stream",
     "text": [
      "Loss: 0.518, Acc: 81.853%: 100%|██████████| 122/122 [00:49<00:00,  2.46it/s]\n"
     ]
    },
    {
     "name": "stdout",
     "output_type": "stream",
     "text": [
      "Training Dataset got 3180 out of 3885 images correctly (81.853%). Epoch loss: 0.518\n"
     ]
    },
    {
     "name": "stderr",
     "output_type": "stream",
     "text": [
      "Acc: 84.758%: 100%|██████████| 31/31 [00:12<00:00,  2.54it/s]\n"
     ]
    },
    {
     "name": "stdout",
     "output_type": "stream",
     "text": [
      "Testing Dataset got 823 out of 971 images correctly (84.758%).\n",
      "Done\n",
      "Epoch number 9\n"
     ]
    },
    {
     "name": "stderr",
     "output_type": "stream",
     "text": [
      "Loss: 0.526, Acc: 81.493%: 100%|██████████| 122/122 [00:49<00:00,  2.45it/s]\n"
     ]
    },
    {
     "name": "stdout",
     "output_type": "stream",
     "text": [
      "Training Dataset got 3166 out of 3885 images correctly (81.493%). Epoch loss: 0.526\n"
     ]
    },
    {
     "name": "stderr",
     "output_type": "stream",
     "text": [
      "Acc: 85.891%: 100%|██████████| 31/31 [00:11<00:00,  2.59it/s]\n"
     ]
    },
    {
     "name": "stdout",
     "output_type": "stream",
     "text": [
      "Testing Dataset got 834 out of 971 images correctly (85.891%).\n",
      "=> new accuracy of 85.8908341915551 saved\n",
      "Done\n",
      "Epoch number 10\n"
     ]
    },
    {
     "name": "stderr",
     "output_type": "stream",
     "text": [
      "Loss: 0.506, Acc: 82.162%: 100%|██████████| 122/122 [00:49<00:00,  2.44it/s]\n"
     ]
    },
    {
     "name": "stdout",
     "output_type": "stream",
     "text": [
      "Training Dataset got 3192 out of 3885 images correctly (82.162%). Epoch loss: 0.506\n"
     ]
    },
    {
     "name": "stderr",
     "output_type": "stream",
     "text": [
      "Acc: 85.376%: 100%|██████████| 31/31 [00:11<00:00,  2.58it/s]\n"
     ]
    },
    {
     "name": "stdout",
     "output_type": "stream",
     "text": [
      "Testing Dataset got 829 out of 971 images correctly (85.376%).\n",
      "Done\n"
     ]
    },
    {
     "name": "stderr",
     "output_type": "stream",
     "text": [
      "Acc: 83.625%: 100%|██████████| 31/31 [00:12<00:00,  2.56it/s]"
     ]
    },
    {
     "name": "stdout",
     "output_type": "stream",
     "text": [
      "Testing Dataset got 812 out of 971 images correctly (83.625%).\n",
      "Average accuracy across 5 folds: 82.970\n"
     ]
    },
    {
     "name": "stderr",
     "output_type": "stream",
     "text": [
      "\n"
     ]
    }
   ],
   "source": [
    "densenet_avg_accuracy = cross_validate(densenet_201, train_dataset, w_criterion, densenet_optimizer, densenet_scheduler, \"densenet_201\", 10, k_folds=5)"
   ]
  },
  {
   "cell_type": "code",
   "execution_count": null,
   "id": "bbd39abd-02fb-4dd9-8ae4-83c92871eccc",
   "metadata": {},
   "outputs": [],
   "source": [
    "checkpoint = torch.load(\"densenet_201_model_best_acc.pth.tar\")\n",
    "densenet_201 = models.densenet201()\n",
    "densenet_ftr = densenet_201.classifier.in_features\n",
    "densenet_201.classifier = nn.Linear(densenet_ftr, classes)\n",
    "densenet_201.load_state_dict(checkpoint['model'])\n",
    "torch.save(densenet_201,'densenet_201.pth')"
   ]
  },
  {
   "cell_type": "code",
   "execution_count": 25,
   "id": "8d3b0c4c-5f41-4db6-8b02-9c0b13a491f8",
   "metadata": {},
   "outputs": [],
   "source": [
    "densenet_201 = torch.load('densenet_201.pth')"
   ]
  },
  {
   "cell_type": "code",
   "execution_count": 26,
   "id": "c0a8cbff-3490-4440-9cd9-c02c986fe58c",
   "metadata": {
    "scrolled": true
   },
   "outputs": [
    {
     "name": "stderr",
     "output_type": "stream",
     "text": [
      "C:\\Users\\SAMU\\anaconda3\\envs\\dermanet-env\\lib\\site-packages\\torch\\nn\\modules\\conv.py:456: UserWarning: Plan failed with a cudnnException: CUDNN_BACKEND_EXECUTION_PLAN_DESCRIPTOR: cudnnFinalize Descriptor Failed cudnn_status: CUDNN_STATUS_NOT_SUPPORTED (Triggered internally at C:\\cb\\pytorch_1000000000000\\work\\aten\\src\\ATen\\native\\cudnn\\Conv_v8.cpp:919.)\n",
      "  return F.conv2d(input, weight, bias, self.stride,\n"
     ]
    },
    {
     "name": "stdout",
     "output_type": "stream",
     "text": [
      "Normalized confusion matrix\n"
     ]
    },
    {
     "data": {
      "image/png": "[encoded data removed]",
      "text/plain": [
       "<Figure size 1400x1200 with 2 Axes>"
      ]
     },
     "metadata": {},
     "output_type": "display_data"
    },
    {
     "name": "stdout",
     "output_type": "stream",
     "text": [
      "Classification Report:\n",
      "                                     precision    recall  f1-score   support\n",
      "\n",
      "                   Acne and Rosacea       0.86      0.79      0.83       312\n",
      "                          Bug Bites       0.95      0.82      0.88       365\n",
      "                             Eczema       0.78      0.72      0.75       309\n",
      "             Hair Loss and Diseases       0.36      0.88      0.51        60\n",
      "Melanoma Skin Cancer Nevi and Moles       0.54      0.78      0.64       116\n",
      "            Nail Fungus and Disease       0.92      0.79      0.85       261\n",
      "\n",
      "                           accuracy                           0.79      1423\n",
      "                          macro avg       0.74      0.80      0.74      1423\n",
      "                       weighted avg       0.83      0.79      0.80      1423\n",
      "\n"
     ]
    }
   ],
   "source": [
    "densenet_201= densenet_201.to(device)\n",
    "predictions, labels = compute_metrics(densenet_201,test_data_loader, class_names)"
   ]
  },
  {
   "cell_type": "code",
   "execution_count": 30,
   "id": "80c5bdd2-6873-4ca2-b362-52e1febfcb39",
   "metadata": {},
   "outputs": [],
   "source": [
    "#train_model(densenet_201, train_data_loader, test_data_loader, w_criterion, densenet_optimizer, densenet_scheduler, \"densenet_nokfold\", 50)"
   ]
  },
  {
   "cell_type": "code",
   "execution_count": 31,
   "id": "a6ad176c-91cd-42d0-ab4e-6058079439e7",
   "metadata": {},
   "outputs": [
    {
     "data": {
      "text/plain": [
       "'checkpoint = torch.load(\"densenet_nokfold_model_best_acc.pth.tar\")\\ndensenet_nokfold = models.densenet201()\\ndensenet_ftr = densenet_nokfold.classifier.in_features\\ndensenet_nokfold.classifier = nn.Linear(densenet_ftr, classes)\\ndensenet_nokfold.load_state_dict(checkpoint[\\'model\\'])\\ntorch.save(densenet_nokfold,\\'densenet_nokfold.pth\\')'"
      ]
     },
     "execution_count": 31,
     "metadata": {},
     "output_type": "execute_result"
    }
   ],
   "source": [
    "\"\"\"checkpoint = torch.load(\"densenet_nokfold_model_best_acc.pth.tar\")\n",
    "densenet_nokfold = models.densenet201()\n",
    "densenet_ftr = densenet_nokfold.classifier.in_features\n",
    "densenet_nokfold.classifier = nn.Linear(densenet_ftr, classes)\n",
    "densenet_nokfold.load_state_dict(checkpoint['model'])\n",
    "torch.save(densenet_nokfold,'densenet_nokfold.pth')\"\"\""
   ]
  },
  {
   "cell_type": "code",
   "execution_count": 32,
   "id": "e26c4877-a603-4cfe-af53-bd047b3fd5b7",
   "metadata": {},
   "outputs": [
    {
     "data": {
      "text/plain": [
       "'densenet_nokfold= densenet_nokfold.to(device)\\npredictions, labels = compute_metrics(densenet_nokfold,test_data_loader, class_names)'"
      ]
     },
     "execution_count": 32,
     "metadata": {},
     "output_type": "execute_result"
    }
   ],
   "source": [
    "\"\"\"densenet_nokfold= densenet_nokfold.to(device)\n",
    "predictions, labels = compute_metrics(densenet_nokfold,test_data_loader, class_names)\"\"\""
   ]
  },
  {
   "cell_type": "code",
   "execution_count": 33,
   "id": "e93366d2-ad69-41d7-b478-a27ddcb63bb6",
   "metadata": {
    "scrolled": true
   },
   "outputs": [
    {
     "name": "stdout",
     "output_type": "stream",
     "text": [
      "Training 5 folds for 10 epochs each\n",
      "Fold 1/5\n",
      "Epoch number 1\n"
     ]
    },
    {
     "name": "stderr",
     "output_type": "stream",
     "text": [
      "Loss: 1.118, Acc: 64.779%: 100%|██████████| 122/122 [00:56<00:00,  2.15it/s]\n"
     ]
    },
    {
     "name": "stdout",
     "output_type": "stream",
     "text": [
      "Training Dataset got 2516 out of 3884 images correctly (64.779%). Epoch loss: 1.118\n"
     ]
    },
    {
     "name": "stderr",
     "output_type": "stream",
     "text": [
      "Acc: 73.457%: 100%|██████████| 31/31 [00:13<00:00,  2.22it/s]\n"
     ]
    },
    {
     "name": "stdout",
     "output_type": "stream",
     "text": [
      "Testing Dataset got 714 out of 972 images correctly (73.457%).\n",
      "=> new accuracy of 73.45679012345678 saved\n",
      "Done\n",
      "Epoch number 2\n"
     ]
    },
    {
     "name": "stderr",
     "output_type": "stream",
     "text": [
      "Loss: 0.794, Acc: 73.404%: 100%|██████████| 122/122 [00:56<00:00,  2.15it/s]\n"
     ]
    },
    {
     "name": "stdout",
     "output_type": "stream",
     "text": [
      "Training Dataset got 2851 out of 3884 images correctly (73.404%). Epoch loss: 0.794\n"
     ]
    },
    {
     "name": "stderr",
     "output_type": "stream",
     "text": [
      "Acc: 75.206%: 100%|██████████| 31/31 [00:13<00:00,  2.23it/s]\n"
     ]
    },
    {
     "name": "stdout",
     "output_type": "stream",
     "text": [
      "Testing Dataset got 731 out of 972 images correctly (75.206%).\n",
      "=> new accuracy of 75.20576131687243 saved\n",
      "Done\n",
      "Epoch number 3\n"
     ]
    },
    {
     "name": "stderr",
     "output_type": "stream",
     "text": [
      "Loss: 0.717, Acc: 75.875%: 100%|██████████| 122/122 [00:57<00:00,  2.14it/s]\n"
     ]
    },
    {
     "name": "stdout",
     "output_type": "stream",
     "text": [
      "Training Dataset got 2947 out of 3884 images correctly (75.875%). Epoch loss: 0.717\n"
     ]
    },
    {
     "name": "stderr",
     "output_type": "stream",
     "text": [
      "Acc: 75.309%: 100%|██████████| 31/31 [00:13<00:00,  2.24it/s]\n"
     ]
    },
    {
     "name": "stdout",
     "output_type": "stream",
     "text": [
      "Testing Dataset got 732 out of 972 images correctly (75.309%).\n",
      "=> new accuracy of 75.30864197530865 saved\n",
      "Done\n",
      "Epoch number 4\n"
     ]
    },
    {
     "name": "stderr",
     "output_type": "stream",
     "text": [
      "Loss: 0.651, Acc: 78.708%: 100%|██████████| 122/122 [00:56<00:00,  2.15it/s]\n"
     ]
    },
    {
     "name": "stdout",
     "output_type": "stream",
     "text": [
      "Training Dataset got 3057 out of 3884 images correctly (78.708%). Epoch loss: 0.651\n"
     ]
    },
    {
     "name": "stderr",
     "output_type": "stream",
     "text": [
      "Acc: 77.366%: 100%|██████████| 31/31 [00:13<00:00,  2.25it/s]\n"
     ]
    },
    {
     "name": "stdout",
     "output_type": "stream",
     "text": [
      "Testing Dataset got 752 out of 972 images correctly (77.366%).\n",
      "=> new accuracy of 77.36625514403292 saved\n",
      "Done\n",
      "Epoch number 5\n"
     ]
    },
    {
     "name": "stderr",
     "output_type": "stream",
     "text": [
      "Loss: 0.592, Acc: 79.557%: 100%|██████████| 122/122 [00:56<00:00,  2.15it/s]\n"
     ]
    },
    {
     "name": "stdout",
     "output_type": "stream",
     "text": [
      "Training Dataset got 3090 out of 3884 images correctly (79.557%). Epoch loss: 0.592\n"
     ]
    },
    {
     "name": "stderr",
     "output_type": "stream",
     "text": [
      "Acc: 78.395%: 100%|██████████| 31/31 [00:13<00:00,  2.25it/s]\n"
     ]
    },
    {
     "name": "stdout",
     "output_type": "stream",
     "text": [
      "Testing Dataset got 762 out of 972 images correctly (78.395%).\n",
      "=> new accuracy of 78.39506172839506 saved\n",
      "Done\n",
      "Epoch number 6\n"
     ]
    },
    {
     "name": "stderr",
     "output_type": "stream",
     "text": [
      "Loss: 0.580, Acc: 80.227%: 100%|██████████| 122/122 [00:56<00:00,  2.15it/s]\n"
     ]
    },
    {
     "name": "stdout",
     "output_type": "stream",
     "text": [
      "Training Dataset got 3116 out of 3884 images correctly (80.227%). Epoch loss: 0.580\n"
     ]
    },
    {
     "name": "stderr",
     "output_type": "stream",
     "text": [
      "Acc: 79.733%: 100%|██████████| 31/31 [00:13<00:00,  2.25it/s]\n"
     ]
    },
    {
     "name": "stdout",
     "output_type": "stream",
     "text": [
      "Testing Dataset got 775 out of 972 images correctly (79.733%).\n",
      "=> new accuracy of 79.73251028806584 saved\n",
      "Done\n",
      "Epoch number 7\n"
     ]
    },
    {
     "name": "stderr",
     "output_type": "stream",
     "text": [
      "Loss: 0.567, Acc: 81.153%: 100%|██████████| 122/122 [00:56<00:00,  2.15it/s]\n"
     ]
    },
    {
     "name": "stdout",
     "output_type": "stream",
     "text": [
      "Training Dataset got 3152 out of 3884 images correctly (81.153%). Epoch loss: 0.567\n"
     ]
    },
    {
     "name": "stderr",
     "output_type": "stream",
     "text": [
      "Acc: 78.704%: 100%|██████████| 31/31 [00:13<00:00,  2.23it/s]\n"
     ]
    },
    {
     "name": "stdout",
     "output_type": "stream",
     "text": [
      "Testing Dataset got 765 out of 972 images correctly (78.704%).\n",
      "Done\n",
      "Epoch number 8\n"
     ]
    },
    {
     "name": "stderr",
     "output_type": "stream",
     "text": [
      "Loss: 0.545, Acc: 80.896%: 100%|██████████| 122/122 [00:56<00:00,  2.15it/s]\n"
     ]
    },
    {
     "name": "stdout",
     "output_type": "stream",
     "text": [
      "Training Dataset got 3142 out of 3884 images correctly (80.896%). Epoch loss: 0.545\n"
     ]
    },
    {
     "name": "stderr",
     "output_type": "stream",
     "text": [
      "Acc: 79.527%: 100%|██████████| 31/31 [00:13<00:00,  2.24it/s]\n"
     ]
    },
    {
     "name": "stdout",
     "output_type": "stream",
     "text": [
      "Testing Dataset got 773 out of 972 images correctly (79.527%).\n",
      "Done\n",
      "Epoch number 9\n"
     ]
    },
    {
     "name": "stderr",
     "output_type": "stream",
     "text": [
      "Loss: 0.530, Acc: 81.771%: 100%|██████████| 122/122 [00:56<00:00,  2.16it/s]\n"
     ]
    },
    {
     "name": "stdout",
     "output_type": "stream",
     "text": [
      "Training Dataset got 3176 out of 3884 images correctly (81.771%). Epoch loss: 0.530\n"
     ]
    },
    {
     "name": "stderr",
     "output_type": "stream",
     "text": [
      "Acc: 79.115%: 100%|██████████| 31/31 [00:13<00:00,  2.24it/s]\n"
     ]
    },
    {
     "name": "stdout",
     "output_type": "stream",
     "text": [
      "Testing Dataset got 769 out of 972 images correctly (79.115%).\n",
      "Done\n",
      "Epoch number 10\n"
     ]
    },
    {
     "name": "stderr",
     "output_type": "stream",
     "text": [
      "Loss: 0.527, Acc: 82.235%: 100%|██████████| 122/122 [00:56<00:00,  2.15it/s]\n"
     ]
    },
    {
     "name": "stdout",
     "output_type": "stream",
     "text": [
      "Training Dataset got 3194 out of 3884 images correctly (82.235%). Epoch loss: 0.527\n"
     ]
    },
    {
     "name": "stderr",
     "output_type": "stream",
     "text": [
      "Acc: 78.601%: 100%|██████████| 31/31 [00:13<00:00,  2.24it/s]\n"
     ]
    },
    {
     "name": "stdout",
     "output_type": "stream",
     "text": [
      "Testing Dataset got 764 out of 972 images correctly (78.601%).\n",
      "Done\n"
     ]
    },
    {
     "name": "stderr",
     "output_type": "stream",
     "text": [
      "Acc: 77.469%: 100%|██████████| 31/31 [00:13<00:00,  2.22it/s]\n"
     ]
    },
    {
     "name": "stdout",
     "output_type": "stream",
     "text": [
      "Testing Dataset got 753 out of 972 images correctly (77.469%).\n",
      "Fold 2/5\n",
      "Epoch number 1\n"
     ]
    },
    {
     "name": "stderr",
     "output_type": "stream",
     "text": [
      "Loss: 0.541, Acc: 81.544%: 100%|██████████| 122/122 [00:56<00:00,  2.15it/s]\n"
     ]
    },
    {
     "name": "stdout",
     "output_type": "stream",
     "text": [
      "Training Dataset got 3168 out of 3885 images correctly (81.544%). Epoch loss: 0.541\n"
     ]
    },
    {
     "name": "stderr",
     "output_type": "stream",
     "text": [
      "Acc: 83.333%:  97%|█████████▋| 30/31 [00:13<00:00,  2.21it/s]C:\\Users\\SAMU\\anaconda3\\envs\\dermanet-env\\lib\\site-packages\\torch\\nn\\modules\\conv.py:456: UserWarning: Plan failed with a cudnnException: CUDNN_BACKEND_EXECUTION_PLAN_DESCRIPTOR: cudnnFinalize Descriptor Failed cudnn_status: CUDNN_STATUS_NOT_SUPPORTED (Triggered internally at C:\\cb\\pytorch_1000000000000\\work\\aten\\src\\ATen\\native\\cudnn\\Conv_v8.cpp:919.)\n",
      "  return F.conv2d(input, weight, bias, self.stride,\n",
      "Acc: 83.316%: 100%|██████████| 31/31 [00:13<00:00,  2.23it/s]\n"
     ]
    },
    {
     "name": "stdout",
     "output_type": "stream",
     "text": [
      "Testing Dataset got 809 out of 971 images correctly (83.316%).\n",
      "=> new accuracy of 83.31616889804326 saved\n",
      "Done\n",
      "Epoch number 2\n"
     ]
    },
    {
     "name": "stderr",
     "output_type": "stream",
     "text": [
      "Loss: 0.537, Acc: 81.673%: 100%|██████████| 122/122 [00:56<00:00,  2.14it/s]\n"
     ]
    },
    {
     "name": "stdout",
     "output_type": "stream",
     "text": [
      "Training Dataset got 3173 out of 3885 images correctly (81.673%). Epoch loss: 0.537\n"
     ]
    },
    {
     "name": "stderr",
     "output_type": "stream",
     "text": [
      "Acc: 83.110%: 100%|██████████| 31/31 [00:13<00:00,  2.24it/s]\n"
     ]
    },
    {
     "name": "stdout",
     "output_type": "stream",
     "text": [
      "Testing Dataset got 807 out of 971 images correctly (83.110%).\n",
      "Done\n",
      "Epoch number 3\n"
     ]
    },
    {
     "name": "stderr",
     "output_type": "stream",
     "text": [
      "Loss: 0.536, Acc: 82.291%: 100%|██████████| 122/122 [00:56<00:00,  2.15it/s]\n"
     ]
    },
    {
     "name": "stdout",
     "output_type": "stream",
     "text": [
      "Training Dataset got 3197 out of 3885 images correctly (82.291%). Epoch loss: 0.536\n"
     ]
    },
    {
     "name": "stderr",
     "output_type": "stream",
     "text": [
      "Acc: 81.977%: 100%|██████████| 31/31 [00:13<00:00,  2.25it/s]\n"
     ]
    },
    {
     "name": "stdout",
     "output_type": "stream",
     "text": [
      "Testing Dataset got 796 out of 971 images correctly (81.977%).\n",
      "Done\n",
      "Epoch number 4\n"
     ]
    },
    {
     "name": "stderr",
     "output_type": "stream",
     "text": [
      "Loss: 0.532, Acc: 82.136%: 100%|██████████| 122/122 [00:56<00:00,  2.16it/s]\n"
     ]
    },
    {
     "name": "stdout",
     "output_type": "stream",
     "text": [
      "Training Dataset got 3191 out of 3885 images correctly (82.136%). Epoch loss: 0.532\n"
     ]
    },
    {
     "name": "stderr",
     "output_type": "stream",
     "text": [
      "Acc: 84.243%: 100%|██████████| 31/31 [00:13<00:00,  2.24it/s]\n"
     ]
    },
    {
     "name": "stdout",
     "output_type": "stream",
     "text": [
      "Testing Dataset got 818 out of 971 images correctly (84.243%).\n",
      "=> new accuracy of 84.24304840370752 saved\n",
      "Done\n",
      "Epoch number 5\n"
     ]
    },
    {
     "name": "stderr",
     "output_type": "stream",
     "text": [
      "Loss: 0.522, Acc: 82.883%: 100%|██████████| 122/122 [00:56<00:00,  2.15it/s]\n"
     ]
    },
    {
     "name": "stdout",
     "output_type": "stream",
     "text": [
      "Training Dataset got 3220 out of 3885 images correctly (82.883%). Epoch loss: 0.522\n"
     ]
    },
    {
     "name": "stderr",
     "output_type": "stream",
     "text": [
      "Acc: 83.522%: 100%|██████████| 31/31 [00:13<00:00,  2.24it/s]\n"
     ]
    },
    {
     "name": "stdout",
     "output_type": "stream",
     "text": [
      "Testing Dataset got 811 out of 971 images correctly (83.522%).\n",
      "Done\n",
      "Epoch number 6\n"
     ]
    },
    {
     "name": "stderr",
     "output_type": "stream",
     "text": [
      "Loss: 0.530, Acc: 82.342%: 100%|██████████| 122/122 [00:56<00:00,  2.16it/s]\n"
     ]
    },
    {
     "name": "stdout",
     "output_type": "stream",
     "text": [
      "Training Dataset got 3199 out of 3885 images correctly (82.342%). Epoch loss: 0.530\n"
     ]
    },
    {
     "name": "stderr",
     "output_type": "stream",
     "text": [
      "Acc: 82.801%: 100%|██████████| 31/31 [00:13<00:00,  2.24it/s]\n"
     ]
    },
    {
     "name": "stdout",
     "output_type": "stream",
     "text": [
      "Testing Dataset got 804 out of 971 images correctly (82.801%).\n",
      "Done\n",
      "Epoch number 7\n"
     ]
    },
    {
     "name": "stderr",
     "output_type": "stream",
     "text": [
      "Loss: 0.529, Acc: 81.931%: 100%|██████████| 122/122 [00:56<00:00,  2.15it/s]\n"
     ]
    },
    {
     "name": "stdout",
     "output_type": "stream",
     "text": [
      "Training Dataset got 3183 out of 3885 images correctly (81.931%). Epoch loss: 0.529\n"
     ]
    },
    {
     "name": "stderr",
     "output_type": "stream",
     "text": [
      "Acc: 82.801%: 100%|██████████| 31/31 [00:13<00:00,  2.23it/s]\n"
     ]
    },
    {
     "name": "stdout",
     "output_type": "stream",
     "text": [
      "Testing Dataset got 804 out of 971 images correctly (82.801%).\n",
      "Done\n",
      "Epoch number 8\n"
     ]
    },
    {
     "name": "stderr",
     "output_type": "stream",
     "text": [
      "Loss: 0.529, Acc: 82.394%: 100%|██████████| 122/122 [00:56<00:00,  2.16it/s]\n"
     ]
    },
    {
     "name": "stdout",
     "output_type": "stream",
     "text": [
      "Training Dataset got 3201 out of 3885 images correctly (82.394%). Epoch loss: 0.529\n"
     ]
    },
    {
     "name": "stderr",
     "output_type": "stream",
     "text": [
      "Acc: 81.565%: 100%|██████████| 31/31 [00:13<00:00,  2.22it/s]\n"
     ]
    },
    {
     "name": "stdout",
     "output_type": "stream",
     "text": [
      "Testing Dataset got 792 out of 971 images correctly (81.565%).\n",
      "Done\n",
      "Epoch number 9\n"
     ]
    },
    {
     "name": "stderr",
     "output_type": "stream",
     "text": [
      "Loss: 0.523, Acc: 82.651%: 100%|██████████| 122/122 [00:56<00:00,  2.16it/s]\n"
     ]
    },
    {
     "name": "stdout",
     "output_type": "stream",
     "text": [
      "Training Dataset got 3211 out of 3885 images correctly (82.651%). Epoch loss: 0.523\n"
     ]
    },
    {
     "name": "stderr",
     "output_type": "stream",
     "text": [
      "Acc: 83.625%: 100%|██████████| 31/31 [00:13<00:00,  2.23it/s]\n"
     ]
    },
    {
     "name": "stdout",
     "output_type": "stream",
     "text": [
      "Testing Dataset got 812 out of 971 images correctly (83.625%).\n",
      "Done\n",
      "Epoch number 10\n"
     ]
    },
    {
     "name": "stderr",
     "output_type": "stream",
     "text": [
      "Loss: 0.511, Acc: 82.677%: 100%|██████████| 122/122 [00:56<00:00,  2.15it/s]\n"
     ]
    },
    {
     "name": "stdout",
     "output_type": "stream",
     "text": [
      "Training Dataset got 3212 out of 3885 images correctly (82.677%). Epoch loss: 0.511\n"
     ]
    },
    {
     "name": "stderr",
     "output_type": "stream",
     "text": [
      "Acc: 82.080%: 100%|██████████| 31/31 [00:13<00:00,  2.23it/s]\n"
     ]
    },
    {
     "name": "stdout",
     "output_type": "stream",
     "text": [
      "Testing Dataset got 797 out of 971 images correctly (82.080%).\n",
      "Done\n"
     ]
    },
    {
     "name": "stderr",
     "output_type": "stream",
     "text": [
      "Acc: 83.213%: 100%|██████████| 31/31 [00:13<00:00,  2.23it/s]\n"
     ]
    },
    {
     "name": "stdout",
     "output_type": "stream",
     "text": [
      "Testing Dataset got 808 out of 971 images correctly (83.213%).\n",
      "Fold 3/5\n",
      "Epoch number 1\n"
     ]
    },
    {
     "name": "stderr",
     "output_type": "stream",
     "text": [
      "Loss: 0.531, Acc: 82.728%: 100%|██████████| 122/122 [00:56<00:00,  2.16it/s]\n"
     ]
    },
    {
     "name": "stdout",
     "output_type": "stream",
     "text": [
      "Training Dataset got 3214 out of 3885 images correctly (82.728%). Epoch loss: 0.531\n"
     ]
    },
    {
     "name": "stderr",
     "output_type": "stream",
     "text": [
      "Acc: 84.861%: 100%|██████████| 31/31 [00:13<00:00,  2.23it/s]\n"
     ]
    },
    {
     "name": "stdout",
     "output_type": "stream",
     "text": [
      "Testing Dataset got 824 out of 971 images correctly (84.861%).\n",
      "=> new accuracy of 84.86096807415036 saved\n",
      "Done\n",
      "Epoch number 2\n"
     ]
    },
    {
     "name": "stderr",
     "output_type": "stream",
     "text": [
      "Loss: 0.527, Acc: 81.853%: 100%|██████████| 122/122 [00:56<00:00,  2.16it/s]\n"
     ]
    },
    {
     "name": "stdout",
     "output_type": "stream",
     "text": [
      "Training Dataset got 3180 out of 3885 images correctly (81.853%). Epoch loss: 0.527\n"
     ]
    },
    {
     "name": "stderr",
     "output_type": "stream",
     "text": [
      "Acc: 83.728%: 100%|██████████| 31/31 [00:13<00:00,  2.24it/s]\n"
     ]
    },
    {
     "name": "stdout",
     "output_type": "stream",
     "text": [
      "Testing Dataset got 813 out of 971 images correctly (83.728%).\n",
      "Done\n",
      "Epoch number 3\n"
     ]
    },
    {
     "name": "stderr",
     "output_type": "stream",
     "text": [
      "Loss: 0.521, Acc: 82.188%: 100%|██████████| 122/122 [00:56<00:00,  2.16it/s]\n"
     ]
    },
    {
     "name": "stdout",
     "output_type": "stream",
     "text": [
      "Training Dataset got 3193 out of 3885 images correctly (82.188%). Epoch loss: 0.521\n"
     ]
    },
    {
     "name": "stderr",
     "output_type": "stream",
     "text": [
      "Acc: 84.758%: 100%|██████████| 31/31 [00:13<00:00,  2.25it/s]\n"
     ]
    },
    {
     "name": "stdout",
     "output_type": "stream",
     "text": [
      "Testing Dataset got 823 out of 971 images correctly (84.758%).\n",
      "Done\n",
      "Epoch number 4\n"
     ]
    },
    {
     "name": "stderr",
     "output_type": "stream",
     "text": [
      "Loss: 0.531, Acc: 81.570%: 100%|██████████| 122/122 [00:56<00:00,  2.17it/s]\n"
     ]
    },
    {
     "name": "stdout",
     "output_type": "stream",
     "text": [
      "Training Dataset got 3169 out of 3885 images correctly (81.570%). Epoch loss: 0.531\n"
     ]
    },
    {
     "name": "stderr",
     "output_type": "stream",
     "text": [
      "Acc: 84.861%: 100%|██████████| 31/31 [00:13<00:00,  2.23it/s]\n"
     ]
    },
    {
     "name": "stdout",
     "output_type": "stream",
     "text": [
      "Testing Dataset got 824 out of 971 images correctly (84.861%).\n",
      "Done\n",
      "Epoch number 5\n"
     ]
    },
    {
     "name": "stderr",
     "output_type": "stream",
     "text": [
      "Loss: 0.524, Acc: 81.467%: 100%|██████████| 122/122 [00:56<00:00,  2.16it/s]\n"
     ]
    },
    {
     "name": "stdout",
     "output_type": "stream",
     "text": [
      "Training Dataset got 3165 out of 3885 images correctly (81.467%). Epoch loss: 0.524\n"
     ]
    },
    {
     "name": "stderr",
     "output_type": "stream",
     "text": [
      "Acc: 83.522%: 100%|██████████| 31/31 [00:14<00:00,  2.21it/s]\n"
     ]
    },
    {
     "name": "stdout",
     "output_type": "stream",
     "text": [
      "Testing Dataset got 811 out of 971 images correctly (83.522%).\n",
      "Done\n",
      "Epoch number 6\n"
     ]
    },
    {
     "name": "stderr",
     "output_type": "stream",
     "text": [
      "Loss: 0.522, Acc: 82.497%: 100%|██████████| 122/122 [00:56<00:00,  2.16it/s]\n"
     ]
    },
    {
     "name": "stdout",
     "output_type": "stream",
     "text": [
      "Training Dataset got 3205 out of 3885 images correctly (82.497%). Epoch loss: 0.522\n"
     ]
    },
    {
     "name": "stderr",
     "output_type": "stream",
     "text": [
      "Acc: 84.758%: 100%|██████████| 31/31 [00:13<00:00,  2.23it/s]\n"
     ]
    },
    {
     "name": "stdout",
     "output_type": "stream",
     "text": [
      "Testing Dataset got 823 out of 971 images correctly (84.758%).\n",
      "Done\n",
      "Epoch number 7\n"
     ]
    },
    {
     "name": "stderr",
     "output_type": "stream",
     "text": [
      "Loss: 0.521, Acc: 81.467%: 100%|██████████| 122/122 [00:56<00:00,  2.16it/s]\n"
     ]
    },
    {
     "name": "stdout",
     "output_type": "stream",
     "text": [
      "Training Dataset got 3165 out of 3885 images correctly (81.467%). Epoch loss: 0.521\n"
     ]
    },
    {
     "name": "stderr",
     "output_type": "stream",
     "text": [
      "Acc: 83.110%: 100%|██████████| 31/31 [00:13<00:00,  2.23it/s]\n"
     ]
    },
    {
     "name": "stdout",
     "output_type": "stream",
     "text": [
      "Testing Dataset got 807 out of 971 images correctly (83.110%).\n",
      "Done\n",
      "Epoch number 8\n"
     ]
    },
    {
     "name": "stderr",
     "output_type": "stream",
     "text": [
      "Loss: 0.529, Acc: 82.317%: 100%|██████████| 122/122 [00:56<00:00,  2.16it/s]\n"
     ]
    },
    {
     "name": "stdout",
     "output_type": "stream",
     "text": [
      "Training Dataset got 3198 out of 3885 images correctly (82.317%). Epoch loss: 0.529\n"
     ]
    },
    {
     "name": "stderr",
     "output_type": "stream",
     "text": [
      "Acc: 83.831%: 100%|██████████| 31/31 [00:13<00:00,  2.24it/s]\n"
     ]
    },
    {
     "name": "stdout",
     "output_type": "stream",
     "text": [
      "Testing Dataset got 814 out of 971 images correctly (83.831%).\n",
      "Done\n",
      "Epoch number 9\n"
     ]
    },
    {
     "name": "stderr",
     "output_type": "stream",
     "text": [
      "Loss: 0.532, Acc: 81.158%: 100%|██████████| 122/122 [00:56<00:00,  2.16it/s]\n"
     ]
    },
    {
     "name": "stdout",
     "output_type": "stream",
     "text": [
      "Training Dataset got 3153 out of 3885 images correctly (81.158%). Epoch loss: 0.532\n"
     ]
    },
    {
     "name": "stderr",
     "output_type": "stream",
     "text": [
      "Acc: 84.140%: 100%|██████████| 31/31 [00:13<00:00,  2.24it/s]\n"
     ]
    },
    {
     "name": "stdout",
     "output_type": "stream",
     "text": [
      "Testing Dataset got 817 out of 971 images correctly (84.140%).\n",
      "Done\n",
      "Epoch number 10\n"
     ]
    },
    {
     "name": "stderr",
     "output_type": "stream",
     "text": [
      "Loss: 0.536, Acc: 81.905%: 100%|██████████| 122/122 [00:56<00:00,  2.16it/s]\n"
     ]
    },
    {
     "name": "stdout",
     "output_type": "stream",
     "text": [
      "Training Dataset got 3182 out of 3885 images correctly (81.905%). Epoch loss: 0.536\n"
     ]
    },
    {
     "name": "stderr",
     "output_type": "stream",
     "text": [
      "Acc: 83.934%: 100%|██████████| 31/31 [00:13<00:00,  2.23it/s]\n"
     ]
    },
    {
     "name": "stdout",
     "output_type": "stream",
     "text": [
      "Testing Dataset got 815 out of 971 images correctly (83.934%).\n",
      "Done\n"
     ]
    },
    {
     "name": "stderr",
     "output_type": "stream",
     "text": [
      "Acc: 84.861%: 100%|██████████| 31/31 [00:13<00:00,  2.23it/s]\n"
     ]
    },
    {
     "name": "stdout",
     "output_type": "stream",
     "text": [
      "Testing Dataset got 824 out of 971 images correctly (84.861%).\n",
      "Fold 4/5\n",
      "Epoch number 1\n"
     ]
    },
    {
     "name": "stderr",
     "output_type": "stream",
     "text": [
      "Loss: 0.519, Acc: 82.033%: 100%|██████████| 122/122 [00:56<00:00,  2.16it/s]\n"
     ]
    },
    {
     "name": "stdout",
     "output_type": "stream",
     "text": [
      "Training Dataset got 3187 out of 3885 images correctly (82.033%). Epoch loss: 0.519\n"
     ]
    },
    {
     "name": "stderr",
     "output_type": "stream",
     "text": [
      "Acc: 85.170%: 100%|██████████| 31/31 [00:13<00:00,  2.23it/s]\n"
     ]
    },
    {
     "name": "stdout",
     "output_type": "stream",
     "text": [
      "Testing Dataset got 827 out of 971 images correctly (85.170%).\n",
      "=> new accuracy of 85.16992790937178 saved\n",
      "Done\n",
      "Epoch number 2\n"
     ]
    },
    {
     "name": "stderr",
     "output_type": "stream",
     "text": [
      "Loss: 0.515, Acc: 83.218%: 100%|██████████| 122/122 [00:56<00:00,  2.15it/s]\n"
     ]
    },
    {
     "name": "stdout",
     "output_type": "stream",
     "text": [
      "Training Dataset got 3233 out of 3885 images correctly (83.218%). Epoch loss: 0.515\n"
     ]
    },
    {
     "name": "stderr",
     "output_type": "stream",
     "text": [
      "Acc: 84.758%: 100%|██████████| 31/31 [00:13<00:00,  2.23it/s]\n"
     ]
    },
    {
     "name": "stdout",
     "output_type": "stream",
     "text": [
      "Testing Dataset got 823 out of 971 images correctly (84.758%).\n",
      "Done\n",
      "Epoch number 3\n"
     ]
    },
    {
     "name": "stderr",
     "output_type": "stream",
     "text": [
      "Loss: 0.522, Acc: 81.853%: 100%|██████████| 122/122 [00:56<00:00,  2.15it/s]\n"
     ]
    },
    {
     "name": "stdout",
     "output_type": "stream",
     "text": [
      "Training Dataset got 3180 out of 3885 images correctly (81.853%). Epoch loss: 0.522\n"
     ]
    },
    {
     "name": "stderr",
     "output_type": "stream",
     "text": [
      "Acc: 86.303%: 100%|██████████| 31/31 [00:13<00:00,  2.25it/s]\n"
     ]
    },
    {
     "name": "stdout",
     "output_type": "stream",
     "text": [
      "Testing Dataset got 838 out of 971 images correctly (86.303%).\n",
      "=> new accuracy of 86.30278063851699 saved\n",
      "Done\n",
      "Epoch number 4\n"
     ]
    },
    {
     "name": "stderr",
     "output_type": "stream",
     "text": [
      "Loss: 0.517, Acc: 82.342%: 100%|██████████| 122/122 [00:56<00:00,  2.15it/s]\n"
     ]
    },
    {
     "name": "stdout",
     "output_type": "stream",
     "text": [
      "Training Dataset got 3199 out of 3885 images correctly (82.342%). Epoch loss: 0.517\n"
     ]
    },
    {
     "name": "stderr",
     "output_type": "stream",
     "text": [
      "Acc: 84.449%: 100%|██████████| 31/31 [00:13<00:00,  2.25it/s]\n"
     ]
    },
    {
     "name": "stdout",
     "output_type": "stream",
     "text": [
      "Testing Dataset got 820 out of 971 images correctly (84.449%).\n",
      "Done\n",
      "Epoch number 5\n"
     ]
    },
    {
     "name": "stderr",
     "output_type": "stream",
     "text": [
      "Loss: 0.535, Acc: 82.008%: 100%|██████████| 122/122 [00:56<00:00,  2.16it/s]\n"
     ]
    },
    {
     "name": "stdout",
     "output_type": "stream",
     "text": [
      "Training Dataset got 3186 out of 3885 images correctly (82.008%). Epoch loss: 0.535\n"
     ]
    },
    {
     "name": "stderr",
     "output_type": "stream",
     "text": [
      "Acc: 83.213%: 100%|██████████| 31/31 [00:13<00:00,  2.24it/s]\n"
     ]
    },
    {
     "name": "stdout",
     "output_type": "stream",
     "text": [
      "Testing Dataset got 808 out of 971 images correctly (83.213%).\n",
      "Done\n",
      "Epoch number 6\n"
     ]
    },
    {
     "name": "stderr",
     "output_type": "stream",
     "text": [
      "Loss: 0.533, Acc: 81.750%: 100%|██████████| 122/122 [00:56<00:00,  2.16it/s]\n"
     ]
    },
    {
     "name": "stdout",
     "output_type": "stream",
     "text": [
      "Training Dataset got 3176 out of 3885 images correctly (81.750%). Epoch loss: 0.533\n"
     ]
    },
    {
     "name": "stderr",
     "output_type": "stream",
     "text": [
      "Acc: 85.376%: 100%|██████████| 31/31 [00:13<00:00,  2.23it/s]\n"
     ]
    },
    {
     "name": "stdout",
     "output_type": "stream",
     "text": [
      "Testing Dataset got 829 out of 971 images correctly (85.376%).\n",
      "Done\n",
      "Epoch number 7\n"
     ]
    },
    {
     "name": "stderr",
     "output_type": "stream",
     "text": [
      "Loss: 0.517, Acc: 82.214%: 100%|██████████| 122/122 [00:56<00:00,  2.16it/s]\n"
     ]
    },
    {
     "name": "stdout",
     "output_type": "stream",
     "text": [
      "Training Dataset got 3194 out of 3885 images correctly (82.214%). Epoch loss: 0.517\n"
     ]
    },
    {
     "name": "stderr",
     "output_type": "stream",
     "text": [
      "Acc: 85.788%: 100%|██████████| 31/31 [00:13<00:00,  2.23it/s]\n"
     ]
    },
    {
     "name": "stdout",
     "output_type": "stream",
     "text": [
      "Testing Dataset got 833 out of 971 images correctly (85.788%).\n",
      "Done\n",
      "Epoch number 8\n"
     ]
    },
    {
     "name": "stderr",
     "output_type": "stream",
     "text": [
      "Loss: 0.521, Acc: 81.931%: 100%|██████████| 122/122 [00:56<00:00,  2.16it/s]\n"
     ]
    },
    {
     "name": "stdout",
     "output_type": "stream",
     "text": [
      "Training Dataset got 3183 out of 3885 images correctly (81.931%). Epoch loss: 0.521\n"
     ]
    },
    {
     "name": "stderr",
     "output_type": "stream",
     "text": [
      "Acc: 83.625%: 100%|██████████| 31/31 [00:13<00:00,  2.25it/s]\n"
     ]
    },
    {
     "name": "stdout",
     "output_type": "stream",
     "text": [
      "Testing Dataset got 812 out of 971 images correctly (83.625%).\n",
      "Done\n",
      "Epoch number 9\n"
     ]
    },
    {
     "name": "stderr",
     "output_type": "stream",
     "text": [
      "Loss: 0.524, Acc: 81.905%: 100%|██████████| 122/122 [00:56<00:00,  2.16it/s]\n"
     ]
    },
    {
     "name": "stdout",
     "output_type": "stream",
     "text": [
      "Training Dataset got 3182 out of 3885 images correctly (81.905%). Epoch loss: 0.524\n"
     ]
    },
    {
     "name": "stderr",
     "output_type": "stream",
     "text": [
      "Acc: 84.037%: 100%|██████████| 31/31 [00:13<00:00,  2.24it/s]\n"
     ]
    },
    {
     "name": "stdout",
     "output_type": "stream",
     "text": [
      "Testing Dataset got 816 out of 971 images correctly (84.037%).\n",
      "Done\n",
      "Epoch number 10\n"
     ]
    },
    {
     "name": "stderr",
     "output_type": "stream",
     "text": [
      "Loss: 0.537, Acc: 81.519%: 100%|██████████| 122/122 [00:56<00:00,  2.15it/s]\n"
     ]
    },
    {
     "name": "stdout",
     "output_type": "stream",
     "text": [
      "Training Dataset got 3167 out of 3885 images correctly (81.519%). Epoch loss: 0.537\n"
     ]
    },
    {
     "name": "stderr",
     "output_type": "stream",
     "text": [
      "Acc: 84.140%: 100%|██████████| 31/31 [00:13<00:00,  2.24it/s]\n"
     ]
    },
    {
     "name": "stdout",
     "output_type": "stream",
     "text": [
      "Testing Dataset got 817 out of 971 images correctly (84.140%).\n",
      "Done\n"
     ]
    },
    {
     "name": "stderr",
     "output_type": "stream",
     "text": [
      "Acc: 86.818%: 100%|██████████| 31/31 [00:13<00:00,  2.24it/s]\n"
     ]
    },
    {
     "name": "stdout",
     "output_type": "stream",
     "text": [
      "Testing Dataset got 843 out of 971 images correctly (86.818%).\n",
      "Fold 5/5\n",
      "Epoch number 1\n"
     ]
    },
    {
     "name": "stderr",
     "output_type": "stream",
     "text": [
      "Loss: 0.528, Acc: 82.317%: 100%|██████████| 122/122 [00:56<00:00,  2.15it/s]\n"
     ]
    },
    {
     "name": "stdout",
     "output_type": "stream",
     "text": [
      "Training Dataset got 3198 out of 3885 images correctly (82.317%). Epoch loss: 0.528\n"
     ]
    },
    {
     "name": "stderr",
     "output_type": "stream",
     "text": [
      "Acc: 85.479%: 100%|██████████| 31/31 [00:13<00:00,  2.23it/s]\n"
     ]
    },
    {
     "name": "stdout",
     "output_type": "stream",
     "text": [
      "Testing Dataset got 830 out of 971 images correctly (85.479%).\n",
      "=> new accuracy of 85.47888774459321 saved\n",
      "Done\n",
      "Epoch number 2\n"
     ]
    },
    {
     "name": "stderr",
     "output_type": "stream",
     "text": [
      "Loss: 0.526, Acc: 81.750%: 100%|██████████| 122/122 [00:56<00:00,  2.15it/s]\n"
     ]
    },
    {
     "name": "stdout",
     "output_type": "stream",
     "text": [
      "Training Dataset got 3176 out of 3885 images correctly (81.750%). Epoch loss: 0.526\n"
     ]
    },
    {
     "name": "stderr",
     "output_type": "stream",
     "text": [
      "Acc: 85.376%: 100%|██████████| 31/31 [00:13<00:00,  2.26it/s]\n"
     ]
    },
    {
     "name": "stdout",
     "output_type": "stream",
     "text": [
      "Testing Dataset got 829 out of 971 images correctly (85.376%).\n",
      "Done\n",
      "Epoch number 3\n"
     ]
    },
    {
     "name": "stderr",
     "output_type": "stream",
     "text": [
      "Loss: 0.527, Acc: 82.239%: 100%|██████████| 122/122 [00:56<00:00,  2.16it/s]\n"
     ]
    },
    {
     "name": "stdout",
     "output_type": "stream",
     "text": [
      "Training Dataset got 3195 out of 3885 images correctly (82.239%). Epoch loss: 0.527\n"
     ]
    },
    {
     "name": "stderr",
     "output_type": "stream",
     "text": [
      "Acc: 84.037%: 100%|██████████| 31/31 [00:13<00:00,  2.25it/s]\n"
     ]
    },
    {
     "name": "stdout",
     "output_type": "stream",
     "text": [
      "Testing Dataset got 816 out of 971 images correctly (84.037%).\n",
      "Done\n",
      "Epoch number 4\n"
     ]
    },
    {
     "name": "stderr",
     "output_type": "stream",
     "text": [
      "Loss: 0.527, Acc: 81.030%: 100%|██████████| 122/122 [00:56<00:00,  2.16it/s]\n"
     ]
    },
    {
     "name": "stdout",
     "output_type": "stream",
     "text": [
      "Training Dataset got 3148 out of 3885 images correctly (81.030%). Epoch loss: 0.527\n"
     ]
    },
    {
     "name": "stderr",
     "output_type": "stream",
     "text": [
      "Acc: 86.303%: 100%|██████████| 31/31 [00:13<00:00,  2.24it/s]\n"
     ]
    },
    {
     "name": "stdout",
     "output_type": "stream",
     "text": [
      "Testing Dataset got 838 out of 971 images correctly (86.303%).\n",
      "=> new accuracy of 86.30278063851699 saved\n",
      "Done\n",
      "Epoch number 5\n"
     ]
    },
    {
     "name": "stderr",
     "output_type": "stream",
     "text": [
      "Loss: 0.520, Acc: 81.287%: 100%|██████████| 122/122 [00:56<00:00,  2.16it/s]\n"
     ]
    },
    {
     "name": "stdout",
     "output_type": "stream",
     "text": [
      "Training Dataset got 3158 out of 3885 images correctly (81.287%). Epoch loss: 0.520\n"
     ]
    },
    {
     "name": "stderr",
     "output_type": "stream",
     "text": [
      "Acc: 85.273%: 100%|██████████| 31/31 [00:13<00:00,  2.24it/s]\n"
     ]
    },
    {
     "name": "stdout",
     "output_type": "stream",
     "text": [
      "Testing Dataset got 828 out of 971 images correctly (85.273%).\n",
      "Done\n",
      "Epoch number 6\n"
     ]
    },
    {
     "name": "stderr",
     "output_type": "stream",
     "text": [
      "Loss: 0.524, Acc: 82.136%: 100%|██████████| 122/122 [00:56<00:00,  2.16it/s]\n"
     ]
    },
    {
     "name": "stdout",
     "output_type": "stream",
     "text": [
      "Training Dataset got 3191 out of 3885 images correctly (82.136%). Epoch loss: 0.524\n"
     ]
    },
    {
     "name": "stderr",
     "output_type": "stream",
     "text": [
      "Acc: 84.037%: 100%|██████████| 31/31 [00:13<00:00,  2.24it/s]\n"
     ]
    },
    {
     "name": "stdout",
     "output_type": "stream",
     "text": [
      "Testing Dataset got 816 out of 971 images correctly (84.037%).\n",
      "Done\n",
      "Epoch number 7\n"
     ]
    },
    {
     "name": "stderr",
     "output_type": "stream",
     "text": [
      "Loss: 0.530, Acc: 82.523%: 100%|██████████| 122/122 [00:56<00:00,  2.16it/s]\n"
     ]
    },
    {
     "name": "stdout",
     "output_type": "stream",
     "text": [
      "Training Dataset got 3206 out of 3885 images correctly (82.523%). Epoch loss: 0.530\n"
     ]
    },
    {
     "name": "stderr",
     "output_type": "stream",
     "text": [
      "Acc: 85.582%: 100%|██████████| 31/31 [00:13<00:00,  2.24it/s]\n"
     ]
    },
    {
     "name": "stdout",
     "output_type": "stream",
     "text": [
      "Testing Dataset got 831 out of 971 images correctly (85.582%).\n",
      "Done\n",
      "Epoch number 8\n"
     ]
    },
    {
     "name": "stderr",
     "output_type": "stream",
     "text": [
      "Loss: 0.526, Acc: 82.239%: 100%|██████████| 122/122 [00:56<00:00,  2.15it/s]\n"
     ]
    },
    {
     "name": "stdout",
     "output_type": "stream",
     "text": [
      "Training Dataset got 3195 out of 3885 images correctly (82.239%). Epoch loss: 0.526\n"
     ]
    },
    {
     "name": "stderr",
     "output_type": "stream",
     "text": [
      "Acc: 85.170%: 100%|██████████| 31/31 [00:13<00:00,  2.24it/s]\n"
     ]
    },
    {
     "name": "stdout",
     "output_type": "stream",
     "text": [
      "Testing Dataset got 827 out of 971 images correctly (85.170%).\n",
      "Done\n",
      "Epoch number 9\n"
     ]
    },
    {
     "name": "stderr",
     "output_type": "stream",
     "text": [
      "Loss: 0.531, Acc: 81.467%: 100%|██████████| 122/122 [00:56<00:00,  2.16it/s]\n"
     ]
    },
    {
     "name": "stdout",
     "output_type": "stream",
     "text": [
      "Training Dataset got 3165 out of 3885 images correctly (81.467%). Epoch loss: 0.531\n"
     ]
    },
    {
     "name": "stderr",
     "output_type": "stream",
     "text": [
      "Acc: 84.552%: 100%|██████████| 31/31 [00:13<00:00,  2.22it/s]\n"
     ]
    },
    {
     "name": "stdout",
     "output_type": "stream",
     "text": [
      "Testing Dataset got 821 out of 971 images correctly (84.552%).\n",
      "Done\n",
      "Epoch number 10\n"
     ]
    },
    {
     "name": "stderr",
     "output_type": "stream",
     "text": [
      "Loss: 0.530, Acc: 81.879%: 100%|██████████| 122/122 [00:56<00:00,  2.16it/s]\n"
     ]
    },
    {
     "name": "stdout",
     "output_type": "stream",
     "text": [
      "Training Dataset got 3181 out of 3885 images correctly (81.879%). Epoch loss: 0.530\n"
     ]
    },
    {
     "name": "stderr",
     "output_type": "stream",
     "text": [
      "Acc: 85.994%: 100%|██████████| 31/31 [00:13<00:00,  2.22it/s]\n"
     ]
    },
    {
     "name": "stdout",
     "output_type": "stream",
     "text": [
      "Testing Dataset got 835 out of 971 images correctly (85.994%).\n",
      "Done\n"
     ]
    },
    {
     "name": "stderr",
     "output_type": "stream",
     "text": [
      "Acc: 85.582%: 100%|██████████| 31/31 [00:13<00:00,  2.24it/s]"
     ]
    },
    {
     "name": "stdout",
     "output_type": "stream",
     "text": [
      "Testing Dataset got 831 out of 971 images correctly (85.582%).\n",
      "Average accuracy across 5 folds: 83.589\n"
     ]
    },
    {
     "name": "stderr",
     "output_type": "stream",
     "text": [
      "\n"
     ]
    }
   ],
   "source": [
    "resnet_avg_accuracy = cross_validate(resnet_152, train_dataset, w_criterion, resnet_optimizer, resnet_scheduler, \"resnet_152\", 10, k_folds=5)"
   ]
  },
  {
   "cell_type": "code",
   "execution_count": null,
   "id": "d1200fb9-2a57-44b9-ae1f-4bc885e1c42b",
   "metadata": {},
   "outputs": [],
   "source": [
    "checkpoint = torch.load(\"resnet_152_model_best_acc.pth.tar\")\n",
    "resnet_152 = models.resnet152()\n",
    "resnet_ftr = resnet_152.fc.in_features\n",
    "resnet_152.fc = nn.Linear(resnet_ftr,classes)\n",
    "resnet_152.load_state_dict(checkpoint['model'])\n",
    "torch.save(resnet_152,'resnet_152.pth')"
   ]
  },
  {
   "cell_type": "code",
   "execution_count": 26,
   "id": "b5235553-e0e6-40ef-8209-9c0a20138e16",
   "metadata": {},
   "outputs": [],
   "source": [
    "resnet_152 = torch.load('resnet_152.pth')"
   ]
  },
  {
   "cell_type": "code",
   "execution_count": 28,
   "id": "28c503cd-d3e5-4655-b517-d85b90f717c9",
   "metadata": {},
   "outputs": [
    {
     "name": "stdout",
     "output_type": "stream",
     "text": [
      "Normalized confusion matrix\n"
     ]
    },
    {
     "data": {
      "image/png": "[encoded data removed]",
      "text/plain": [
       "<Figure size 1400x1200 with 2 Axes>"
      ]
     },
     "metadata": {},
     "output_type": "display_data"
    },
    {
     "name": "stdout",
     "output_type": "stream",
     "text": [
      "Classification Report:\n",
      "                                     precision    recall  f1-score   support\n",
      "\n",
      "                   Acne and Rosacea       0.90      0.77      0.83       312\n",
      "                          Bug Bites       0.90      0.84      0.87       365\n",
      "                             Eczema       0.74      0.73      0.74       309\n",
      "             Hair Loss and Diseases       0.39      0.87      0.54        60\n",
      "Melanoma Skin Cancer Nevi and Moles       0.58      0.80      0.67       116\n",
      "            Nail Fungus and Disease       0.93      0.77      0.84       261\n",
      "\n",
      "                           accuracy                           0.78      1423\n",
      "                          macro avg       0.74      0.80      0.75      1423\n",
      "                       weighted avg       0.82      0.78      0.79      1423\n",
      "\n"
     ]
    }
   ],
   "source": [
    "resnet_152 = resnet_152.to(device)\n",
    "predictions, labels = compute_metrics(resnet_152,test_data_loader, class_names)"
   ]
  },
  {
   "cell_type": "code",
   "execution_count": 37,
   "id": "2ff3ef9c-a42c-4451-8244-0332d34b9f57",
   "metadata": {},
   "outputs": [
    {
     "name": "stdout",
     "output_type": "stream",
     "text": [
      "Training 5 folds for 10 epochs each\n",
      "Fold 1/5\n",
      "Epoch number 1\n"
     ]
    },
    {
     "name": "stderr",
     "output_type": "stream",
     "text": [
      "Loss: 1.389, Acc: 58.599%: 100%|██████████| 122/122 [00:57<00:00,  2.14it/s]\n"
     ]
    },
    {
     "name": "stdout",
     "output_type": "stream",
     "text": [
      "Training Dataset got 2276 out of 3884 images correctly (58.599%). Epoch loss: 1.389\n"
     ]
    },
    {
     "name": "stderr",
     "output_type": "stream",
     "text": [
      "Acc: 62.037%: 100%|██████████| 31/31 [00:12<00:00,  2.49it/s]\n"
     ]
    },
    {
     "name": "stdout",
     "output_type": "stream",
     "text": [
      "Testing Dataset got 603 out of 972 images correctly (62.037%).\n",
      "=> new accuracy of 62.03703703703704 saved\n",
      "Done\n",
      "Epoch number 2\n"
     ]
    },
    {
     "name": "stderr",
     "output_type": "stream",
     "text": [
      "Loss: 1.176, Acc: 66.632%: 100%|██████████| 122/122 [00:56<00:00,  2.15it/s]\n"
     ]
    },
    {
     "name": "stdout",
     "output_type": "stream",
     "text": [
      "Training Dataset got 2588 out of 3884 images correctly (66.632%). Epoch loss: 1.176\n"
     ]
    },
    {
     "name": "stderr",
     "output_type": "stream",
     "text": [
      "Acc: 69.753%: 100%|██████████| 31/31 [00:12<00:00,  2.49it/s]\n"
     ]
    },
    {
     "name": "stdout",
     "output_type": "stream",
     "text": [
      "Testing Dataset got 678 out of 972 images correctly (69.753%).\n",
      "=> new accuracy of 69.75308641975309 saved\n",
      "Done\n",
      "Epoch number 3\n"
     ]
    },
    {
     "name": "stderr",
     "output_type": "stream",
     "text": [
      "Loss: 1.096, Acc: 69.310%: 100%|██████████| 122/122 [00:57<00:00,  2.14it/s]\n"
     ]
    },
    {
     "name": "stdout",
     "output_type": "stream",
     "text": [
      "Training Dataset got 2692 out of 3884 images correctly (69.310%). Epoch loss: 1.096\n"
     ]
    },
    {
     "name": "stderr",
     "output_type": "stream",
     "text": [
      "Acc: 69.239%: 100%|██████████| 31/31 [00:12<00:00,  2.50it/s]\n"
     ]
    },
    {
     "name": "stdout",
     "output_type": "stream",
     "text": [
      "Testing Dataset got 673 out of 972 images correctly (69.239%).\n",
      "Done\n",
      "Epoch number 4\n"
     ]
    },
    {
     "name": "stderr",
     "output_type": "stream",
     "text": [
      "Loss: 1.026, Acc: 71.936%: 100%|██████████| 122/122 [00:56<00:00,  2.16it/s]\n"
     ]
    },
    {
     "name": "stdout",
     "output_type": "stream",
     "text": [
      "Training Dataset got 2794 out of 3884 images correctly (71.936%). Epoch loss: 1.026\n"
     ]
    },
    {
     "name": "stderr",
     "output_type": "stream",
     "text": [
      "Acc: 72.737%: 100%|██████████| 31/31 [00:12<00:00,  2.50it/s]\n"
     ]
    },
    {
     "name": "stdout",
     "output_type": "stream",
     "text": [
      "Testing Dataset got 707 out of 972 images correctly (72.737%).\n",
      "=> new accuracy of 72.73662551440329 saved\n",
      "Done\n",
      "Epoch number 5\n"
     ]
    },
    {
     "name": "stderr",
     "output_type": "stream",
     "text": [
      "Loss: 0.715, Acc: 77.163%: 100%|██████████| 122/122 [00:56<00:00,  2.15it/s]\n"
     ]
    },
    {
     "name": "stdout",
     "output_type": "stream",
     "text": [
      "Training Dataset got 2997 out of 3884 images correctly (77.163%). Epoch loss: 0.715\n"
     ]
    },
    {
     "name": "stderr",
     "output_type": "stream",
     "text": [
      "Acc: 75.412%: 100%|██████████| 31/31 [00:12<00:00,  2.48it/s]\n"
     ]
    },
    {
     "name": "stdout",
     "output_type": "stream",
     "text": [
      "Testing Dataset got 733 out of 972 images correctly (75.412%).\n",
      "=> new accuracy of 75.41152263374485 saved\n",
      "Done\n",
      "Epoch number 6\n"
     ]
    },
    {
     "name": "stderr",
     "output_type": "stream",
     "text": [
      "Loss: 0.661, Acc: 80.433%: 100%|██████████| 122/122 [00:56<00:00,  2.16it/s]\n"
     ]
    },
    {
     "name": "stdout",
     "output_type": "stream",
     "text": [
      "Training Dataset got 3124 out of 3884 images correctly (80.433%). Epoch loss: 0.661\n"
     ]
    },
    {
     "name": "stderr",
     "output_type": "stream",
     "text": [
      "Acc: 77.984%: 100%|██████████| 31/31 [00:12<00:00,  2.51it/s]\n"
     ]
    },
    {
     "name": "stdout",
     "output_type": "stream",
     "text": [
      "Testing Dataset got 758 out of 972 images correctly (77.984%).\n",
      "=> new accuracy of 77.98353909465021 saved\n",
      "Done\n",
      "Epoch number 7\n"
     ]
    },
    {
     "name": "stderr",
     "output_type": "stream",
     "text": [
      "Loss: 0.543, Acc: 81.540%: 100%|██████████| 122/122 [00:56<00:00,  2.17it/s]\n"
     ]
    },
    {
     "name": "stdout",
     "output_type": "stream",
     "text": [
      "Training Dataset got 3167 out of 3884 images correctly (81.540%). Epoch loss: 0.543\n"
     ]
    },
    {
     "name": "stderr",
     "output_type": "stream",
     "text": [
      "Acc: 76.852%: 100%|██████████| 31/31 [00:12<00:00,  2.50it/s]\n"
     ]
    },
    {
     "name": "stdout",
     "output_type": "stream",
     "text": [
      "Testing Dataset got 747 out of 972 images correctly (76.852%).\n",
      "Done\n",
      "Epoch number 8\n"
     ]
    },
    {
     "name": "stderr",
     "output_type": "stream",
     "text": [
      "Loss: 0.435, Acc: 85.711%: 100%|██████████| 122/122 [00:56<00:00,  2.14it/s]\n"
     ]
    },
    {
     "name": "stdout",
     "output_type": "stream",
     "text": [
      "Training Dataset got 3329 out of 3884 images correctly (85.711%). Epoch loss: 0.435\n"
     ]
    },
    {
     "name": "stderr",
     "output_type": "stream",
     "text": [
      "Acc: 78.292%: 100%|██████████| 31/31 [00:12<00:00,  2.52it/s]\n"
     ]
    },
    {
     "name": "stdout",
     "output_type": "stream",
     "text": [
      "Testing Dataset got 761 out of 972 images correctly (78.292%).\n",
      "=> new accuracy of 78.29218106995884 saved\n",
      "Done\n",
      "Epoch number 9\n"
     ]
    },
    {
     "name": "stderr",
     "output_type": "stream",
     "text": [
      "Loss: 0.378, Acc: 87.539%: 100%|██████████| 122/122 [00:56<00:00,  2.15it/s]\n"
     ]
    },
    {
     "name": "stdout",
     "output_type": "stream",
     "text": [
      "Training Dataset got 3400 out of 3884 images correctly (87.539%). Epoch loss: 0.378\n"
     ]
    },
    {
     "name": "stderr",
     "output_type": "stream",
     "text": [
      "Acc: 80.967%: 100%|██████████| 31/31 [00:12<00:00,  2.50it/s]\n"
     ]
    },
    {
     "name": "stdout",
     "output_type": "stream",
     "text": [
      "Testing Dataset got 787 out of 972 images correctly (80.967%).\n",
      "=> new accuracy of 80.96707818930041 saved\n",
      "Done\n",
      "Epoch number 10\n"
     ]
    },
    {
     "name": "stderr",
     "output_type": "stream",
     "text": [
      "Loss: 0.363, Acc: 88.208%: 100%|██████████| 122/122 [00:56<00:00,  2.16it/s]\n"
     ]
    },
    {
     "name": "stdout",
     "output_type": "stream",
     "text": [
      "Training Dataset got 3426 out of 3884 images correctly (88.208%). Epoch loss: 0.363\n"
     ]
    },
    {
     "name": "stderr",
     "output_type": "stream",
     "text": [
      "Acc: 79.733%: 100%|██████████| 31/31 [00:12<00:00,  2.50it/s]\n"
     ]
    },
    {
     "name": "stdout",
     "output_type": "stream",
     "text": [
      "Testing Dataset got 775 out of 972 images correctly (79.733%).\n",
      "Done\n"
     ]
    },
    {
     "name": "stderr",
     "output_type": "stream",
     "text": [
      "Acc: 77.778%: 100%|██████████| 31/31 [00:12<00:00,  2.48it/s]\n"
     ]
    },
    {
     "name": "stdout",
     "output_type": "stream",
     "text": [
      "Testing Dataset got 756 out of 972 images correctly (77.778%).\n",
      "Fold 2/5\n",
      "Epoch number 1\n"
     ]
    },
    {
     "name": "stderr",
     "output_type": "stream",
     "text": [
      "Loss: 0.490, Acc: 86.332%: 100%|██████████| 122/122 [00:56<00:00,  2.16it/s]\n"
     ]
    },
    {
     "name": "stdout",
     "output_type": "stream",
     "text": [
      "Training Dataset got 3354 out of 3885 images correctly (86.332%). Epoch loss: 0.490\n"
     ]
    },
    {
     "name": "stderr",
     "output_type": "stream",
     "text": [
      "Acc: 91.452%: 100%|██████████| 31/31 [00:12<00:00,  2.52it/s]\n"
     ]
    },
    {
     "name": "stdout",
     "output_type": "stream",
     "text": [
      "Testing Dataset got 888 out of 971 images correctly (91.452%).\n",
      "=> new accuracy of 91.45211122554068 saved\n",
      "Done\n",
      "Epoch number 2\n"
     ]
    },
    {
     "name": "stderr",
     "output_type": "stream",
     "text": [
      "Loss: 0.379, Acc: 87.773%: 100%|██████████| 122/122 [00:56<00:00,  2.16it/s]\n"
     ]
    },
    {
     "name": "stdout",
     "output_type": "stream",
     "text": [
      "Training Dataset got 3410 out of 3885 images correctly (87.773%). Epoch loss: 0.379\n"
     ]
    },
    {
     "name": "stderr",
     "output_type": "stream",
     "text": [
      "Acc: 91.864%: 100%|██████████| 31/31 [00:12<00:00,  2.50it/s]\n"
     ]
    },
    {
     "name": "stdout",
     "output_type": "stream",
     "text": [
      "Testing Dataset got 892 out of 971 images correctly (91.864%).\n",
      "=> new accuracy of 91.86405767250257 saved\n",
      "Done\n",
      "Epoch number 3\n"
     ]
    },
    {
     "name": "stderr",
     "output_type": "stream",
     "text": [
      "Loss: 0.337, Acc: 88.160%: 100%|██████████| 122/122 [00:56<00:00,  2.16it/s]\n"
     ]
    },
    {
     "name": "stdout",
     "output_type": "stream",
     "text": [
      "Training Dataset got 3425 out of 3885 images correctly (88.160%). Epoch loss: 0.337\n"
     ]
    },
    {
     "name": "stderr",
     "output_type": "stream",
     "text": [
      "Acc: 92.070%: 100%|██████████| 31/31 [00:12<00:00,  2.53it/s]\n"
     ]
    },
    {
     "name": "stdout",
     "output_type": "stream",
     "text": [
      "Testing Dataset got 894 out of 971 images correctly (92.070%).\n",
      "=> new accuracy of 92.07003089598352 saved\n",
      "Done\n",
      "Epoch number 4\n"
     ]
    },
    {
     "name": "stderr",
     "output_type": "stream",
     "text": [
      "Loss: 0.311, Acc: 90.013%: 100%|██████████| 122/122 [00:56<00:00,  2.16it/s]\n"
     ]
    },
    {
     "name": "stdout",
     "output_type": "stream",
     "text": [
      "Training Dataset got 3497 out of 3885 images correctly (90.013%). Epoch loss: 0.311\n"
     ]
    },
    {
     "name": "stderr",
     "output_type": "stream",
     "text": [
      "Acc: 91.555%: 100%|██████████| 31/31 [00:12<00:00,  2.52it/s]\n"
     ]
    },
    {
     "name": "stdout",
     "output_type": "stream",
     "text": [
      "Testing Dataset got 889 out of 971 images correctly (91.555%).\n",
      "Done\n",
      "Epoch number 5\n"
     ]
    },
    {
     "name": "stderr",
     "output_type": "stream",
     "text": [
      "Loss: 0.279, Acc: 90.914%: 100%|██████████| 122/122 [00:56<00:00,  2.17it/s]\n"
     ]
    },
    {
     "name": "stdout",
     "output_type": "stream",
     "text": [
      "Training Dataset got 3532 out of 3885 images correctly (90.914%). Epoch loss: 0.279\n"
     ]
    },
    {
     "name": "stderr",
     "output_type": "stream",
     "text": [
      "Acc: 92.894%: 100%|██████████| 31/31 [00:12<00:00,  2.51it/s]\n"
     ]
    },
    {
     "name": "stdout",
     "output_type": "stream",
     "text": [
      "Testing Dataset got 902 out of 971 images correctly (92.894%).\n",
      "=> new accuracy of 92.89392378990732 saved\n",
      "Done\n",
      "Epoch number 6\n"
     ]
    },
    {
     "name": "stderr",
     "output_type": "stream",
     "text": [
      "Loss: 0.262, Acc: 90.940%: 100%|██████████| 122/122 [00:56<00:00,  2.16it/s]\n"
     ]
    },
    {
     "name": "stdout",
     "output_type": "stream",
     "text": [
      "Training Dataset got 3533 out of 3885 images correctly (90.940%). Epoch loss: 0.262\n"
     ]
    },
    {
     "name": "stderr",
     "output_type": "stream",
     "text": [
      "Acc: 92.482%: 100%|██████████| 31/31 [00:12<00:00,  2.45it/s]\n"
     ]
    },
    {
     "name": "stdout",
     "output_type": "stream",
     "text": [
      "Testing Dataset got 898 out of 971 images correctly (92.482%).\n",
      "Done\n",
      "Epoch number 7\n"
     ]
    },
    {
     "name": "stderr",
     "output_type": "stream",
     "text": [
      "Loss: 0.249, Acc: 90.837%: 100%|██████████| 122/122 [00:56<00:00,  2.17it/s]\n"
     ]
    },
    {
     "name": "stdout",
     "output_type": "stream",
     "text": [
      "Training Dataset got 3529 out of 3885 images correctly (90.837%). Epoch loss: 0.249\n"
     ]
    },
    {
     "name": "stderr",
     "output_type": "stream",
     "text": [
      "Acc: 91.555%: 100%|██████████| 31/31 [00:12<00:00,  2.51it/s]\n"
     ]
    },
    {
     "name": "stdout",
     "output_type": "stream",
     "text": [
      "Testing Dataset got 889 out of 971 images correctly (91.555%).\n",
      "Done\n",
      "Epoch number 8\n"
     ]
    },
    {
     "name": "stderr",
     "output_type": "stream",
     "text": [
      "Loss: 0.260, Acc: 90.759%: 100%|██████████| 122/122 [00:56<00:00,  2.17it/s]\n"
     ]
    },
    {
     "name": "stdout",
     "output_type": "stream",
     "text": [
      "Training Dataset got 3526 out of 3885 images correctly (90.759%). Epoch loss: 0.260\n"
     ]
    },
    {
     "name": "stderr",
     "output_type": "stream",
     "text": [
      "Acc: 92.688%: 100%|██████████| 31/31 [00:12<00:00,  2.51it/s]\n"
     ]
    },
    {
     "name": "stdout",
     "output_type": "stream",
     "text": [
      "Testing Dataset got 900 out of 971 images correctly (92.688%).\n",
      "Done\n",
      "Epoch number 9\n"
     ]
    },
    {
     "name": "stderr",
     "output_type": "stream",
     "text": [
      "Loss: 0.244, Acc: 91.480%: 100%|██████████| 122/122 [00:56<00:00,  2.17it/s]\n"
     ]
    },
    {
     "name": "stdout",
     "output_type": "stream",
     "text": [
      "Training Dataset got 3554 out of 3885 images correctly (91.480%). Epoch loss: 0.244\n"
     ]
    },
    {
     "name": "stderr",
     "output_type": "stream",
     "text": [
      "Acc: 92.791%: 100%|██████████| 31/31 [00:12<00:00,  2.49it/s]\n"
     ]
    },
    {
     "name": "stdout",
     "output_type": "stream",
     "text": [
      "Testing Dataset got 901 out of 971 images correctly (92.791%).\n",
      "Done\n",
      "Epoch number 10\n"
     ]
    },
    {
     "name": "stderr",
     "output_type": "stream",
     "text": [
      "Loss: 0.212, Acc: 92.124%: 100%|██████████| 122/122 [00:56<00:00,  2.17it/s]\n"
     ]
    },
    {
     "name": "stdout",
     "output_type": "stream",
     "text": [
      "Training Dataset got 3579 out of 3885 images correctly (92.124%). Epoch loss: 0.212\n"
     ]
    },
    {
     "name": "stderr",
     "output_type": "stream",
     "text": [
      "Acc: 92.173%: 100%|██████████| 31/31 [00:12<00:00,  2.53it/s]\n"
     ]
    },
    {
     "name": "stdout",
     "output_type": "stream",
     "text": [
      "Testing Dataset got 895 out of 971 images correctly (92.173%).\n",
      "Done\n"
     ]
    },
    {
     "name": "stderr",
     "output_type": "stream",
     "text": [
      "Acc: 91.761%: 100%|██████████| 31/31 [00:12<00:00,  2.51it/s]\n"
     ]
    },
    {
     "name": "stdout",
     "output_type": "stream",
     "text": [
      "Testing Dataset got 891 out of 971 images correctly (91.761%).\n",
      "Fold 3/5\n",
      "Epoch number 1\n"
     ]
    },
    {
     "name": "stderr",
     "output_type": "stream",
     "text": [
      "Loss: 0.256, Acc: 91.171%: 100%|██████████| 122/122 [00:56<00:00,  2.17it/s]\n"
     ]
    },
    {
     "name": "stdout",
     "output_type": "stream",
     "text": [
      "Training Dataset got 3542 out of 3885 images correctly (91.171%). Epoch loss: 0.256\n"
     ]
    },
    {
     "name": "stderr",
     "output_type": "stream",
     "text": [
      "Acc: 96.087%: 100%|██████████| 31/31 [00:12<00:00,  2.51it/s]\n"
     ]
    },
    {
     "name": "stdout",
     "output_type": "stream",
     "text": [
      "Testing Dataset got 933 out of 971 images correctly (96.087%).\n",
      "=> new accuracy of 96.08650875386199 saved\n",
      "Done\n",
      "Epoch number 2\n"
     ]
    },
    {
     "name": "stderr",
     "output_type": "stream",
     "text": [
      "Loss: 0.257, Acc: 91.429%: 100%|██████████| 122/122 [00:56<00:00,  2.16it/s]\n"
     ]
    },
    {
     "name": "stdout",
     "output_type": "stream",
     "text": [
      "Training Dataset got 3552 out of 3885 images correctly (91.429%). Epoch loss: 0.257\n"
     ]
    },
    {
     "name": "stderr",
     "output_type": "stream",
     "text": [
      "Acc: 96.498%: 100%|██████████| 31/31 [00:12<00:00,  2.51it/s]\n"
     ]
    },
    {
     "name": "stdout",
     "output_type": "stream",
     "text": [
      "Testing Dataset got 937 out of 971 images correctly (96.498%).\n",
      "=> new accuracy of 96.4984552008239 saved\n",
      "Done\n",
      "Epoch number 3\n"
     ]
    },
    {
     "name": "stderr",
     "output_type": "stream",
     "text": [
      "Loss: 0.248, Acc: 91.094%: 100%|██████████| 122/122 [00:56<00:00,  2.17it/s]\n"
     ]
    },
    {
     "name": "stdout",
     "output_type": "stream",
     "text": [
      "Training Dataset got 3539 out of 3885 images correctly (91.094%). Epoch loss: 0.248\n"
     ]
    },
    {
     "name": "stderr",
     "output_type": "stream",
     "text": [
      "Acc: 96.704%: 100%|██████████| 31/31 [00:12<00:00,  2.53it/s]\n"
     ]
    },
    {
     "name": "stdout",
     "output_type": "stream",
     "text": [
      "Testing Dataset got 939 out of 971 images correctly (96.704%).\n",
      "=> new accuracy of 96.70442842430484 saved\n",
      "Done\n",
      "Epoch number 4\n"
     ]
    },
    {
     "name": "stderr",
     "output_type": "stream",
     "text": [
      "Loss: 0.259, Acc: 90.965%: 100%|██████████| 122/122 [00:56<00:00,  2.17it/s]\n"
     ]
    },
    {
     "name": "stdout",
     "output_type": "stream",
     "text": [
      "Training Dataset got 3534 out of 3885 images correctly (90.965%). Epoch loss: 0.259\n"
     ]
    },
    {
     "name": "stderr",
     "output_type": "stream",
     "text": [
      "Acc: 96.189%: 100%|██████████| 31/31 [00:12<00:00,  2.50it/s]\n"
     ]
    },
    {
     "name": "stdout",
     "output_type": "stream",
     "text": [
      "Testing Dataset got 934 out of 971 images correctly (96.189%).\n",
      "Done\n",
      "Epoch number 5\n"
     ]
    },
    {
     "name": "stderr",
     "output_type": "stream",
     "text": [
      "Loss: 0.240, Acc: 91.403%: 100%|██████████| 122/122 [00:55<00:00,  2.18it/s]\n"
     ]
    },
    {
     "name": "stdout",
     "output_type": "stream",
     "text": [
      "Training Dataset got 3551 out of 3885 images correctly (91.403%). Epoch loss: 0.240\n"
     ]
    },
    {
     "name": "stderr",
     "output_type": "stream",
     "text": [
      "Acc: 96.189%: 100%|██████████| 31/31 [00:12<00:00,  2.50it/s]\n"
     ]
    },
    {
     "name": "stdout",
     "output_type": "stream",
     "text": [
      "Testing Dataset got 934 out of 971 images correctly (96.189%).\n",
      "Done\n",
      "Epoch number 6\n"
     ]
    },
    {
     "name": "stderr",
     "output_type": "stream",
     "text": [
      "Loss: 0.259, Acc: 90.837%: 100%|██████████| 122/122 [00:56<00:00,  2.17it/s]\n"
     ]
    },
    {
     "name": "stdout",
     "output_type": "stream",
     "text": [
      "Training Dataset got 3529 out of 3885 images correctly (90.837%). Epoch loss: 0.259\n"
     ]
    },
    {
     "name": "stderr",
     "output_type": "stream",
     "text": [
      "Acc: 96.087%: 100%|██████████| 31/31 [00:12<00:00,  2.49it/s]\n"
     ]
    },
    {
     "name": "stdout",
     "output_type": "stream",
     "text": [
      "Testing Dataset got 933 out of 971 images correctly (96.087%).\n",
      "Done\n",
      "Epoch number 7\n"
     ]
    },
    {
     "name": "stderr",
     "output_type": "stream",
     "text": [
      "Loss: 0.248, Acc: 91.377%: 100%|██████████| 122/122 [00:56<00:00,  2.17it/s]\n"
     ]
    },
    {
     "name": "stdout",
     "output_type": "stream",
     "text": [
      "Training Dataset got 3550 out of 3885 images correctly (91.377%). Epoch loss: 0.248\n"
     ]
    },
    {
     "name": "stderr",
     "output_type": "stream",
     "text": [
      "Acc: 96.601%: 100%|██████████| 31/31 [00:12<00:00,  2.53it/s]\n"
     ]
    },
    {
     "name": "stdout",
     "output_type": "stream",
     "text": [
      "Testing Dataset got 938 out of 971 images correctly (96.601%).\n",
      "Done\n",
      "Epoch number 8\n"
     ]
    },
    {
     "name": "stderr",
     "output_type": "stream",
     "text": [
      "Loss: 0.253, Acc: 91.763%: 100%|██████████| 122/122 [00:55<00:00,  2.18it/s]\n"
     ]
    },
    {
     "name": "stdout",
     "output_type": "stream",
     "text": [
      "Training Dataset got 3565 out of 3885 images correctly (91.763%). Epoch loss: 0.253\n"
     ]
    },
    {
     "name": "stderr",
     "output_type": "stream",
     "text": [
      "Acc: 96.189%: 100%|██████████| 31/31 [00:12<00:00,  2.51it/s]\n"
     ]
    },
    {
     "name": "stdout",
     "output_type": "stream",
     "text": [
      "Testing Dataset got 934 out of 971 images correctly (96.189%).\n",
      "Done\n",
      "Epoch number 9\n"
     ]
    },
    {
     "name": "stderr",
     "output_type": "stream",
     "text": [
      "Loss: 0.240, Acc: 91.197%: 100%|██████████| 122/122 [00:56<00:00,  2.17it/s]\n"
     ]
    },
    {
     "name": "stdout",
     "output_type": "stream",
     "text": [
      "Training Dataset got 3543 out of 3885 images correctly (91.197%). Epoch loss: 0.240\n"
     ]
    },
    {
     "name": "stderr",
     "output_type": "stream",
     "text": [
      "Acc: 96.189%: 100%|██████████| 31/31 [00:12<00:00,  2.50it/s]\n"
     ]
    },
    {
     "name": "stdout",
     "output_type": "stream",
     "text": [
      "Testing Dataset got 934 out of 971 images correctly (96.189%).\n",
      "Done\n",
      "Epoch number 10\n"
     ]
    },
    {
     "name": "stderr",
     "output_type": "stream",
     "text": [
      "Loss: 0.234, Acc: 91.866%: 100%|██████████| 122/122 [00:55<00:00,  2.18it/s]\n"
     ]
    },
    {
     "name": "stdout",
     "output_type": "stream",
     "text": [
      "Training Dataset got 3569 out of 3885 images correctly (91.866%). Epoch loss: 0.234\n"
     ]
    },
    {
     "name": "stderr",
     "output_type": "stream",
     "text": [
      "Acc: 96.395%: 100%|██████████| 31/31 [00:12<00:00,  2.52it/s]\n"
     ]
    },
    {
     "name": "stdout",
     "output_type": "stream",
     "text": [
      "Testing Dataset got 936 out of 971 images correctly (96.395%).\n",
      "Done\n"
     ]
    },
    {
     "name": "stderr",
     "output_type": "stream",
     "text": [
      "Acc: 96.189%: 100%|██████████| 31/31 [00:12<00:00,  2.49it/s]\n"
     ]
    },
    {
     "name": "stdout",
     "output_type": "stream",
     "text": [
      "Testing Dataset got 934 out of 971 images correctly (96.189%).\n",
      "Fold 4/5\n",
      "Epoch number 1\n"
     ]
    },
    {
     "name": "stderr",
     "output_type": "stream",
     "text": [
      "Loss: 0.241, Acc: 91.377%: 100%|██████████| 122/122 [00:56<00:00,  2.18it/s]\n"
     ]
    },
    {
     "name": "stdout",
     "output_type": "stream",
     "text": [
      "Training Dataset got 3550 out of 3885 images correctly (91.377%). Epoch loss: 0.241\n"
     ]
    },
    {
     "name": "stderr",
     "output_type": "stream",
     "text": [
      "Acc: 96.292%: 100%|██████████| 31/31 [00:12<00:00,  2.51it/s]\n"
     ]
    },
    {
     "name": "stdout",
     "output_type": "stream",
     "text": [
      "Testing Dataset got 935 out of 971 images correctly (96.292%).\n",
      "=> new accuracy of 96.29248197734294 saved\n",
      "Done\n",
      "Epoch number 2\n"
     ]
    },
    {
     "name": "stderr",
     "output_type": "stream",
     "text": [
      "Loss: 0.248, Acc: 91.377%: 100%|██████████| 122/122 [00:56<00:00,  2.17it/s]\n"
     ]
    },
    {
     "name": "stdout",
     "output_type": "stream",
     "text": [
      "Training Dataset got 3550 out of 3885 images correctly (91.377%). Epoch loss: 0.248\n"
     ]
    },
    {
     "name": "stderr",
     "output_type": "stream",
     "text": [
      "Acc: 96.087%: 100%|██████████| 31/31 [00:12<00:00,  2.52it/s]\n"
     ]
    },
    {
     "name": "stdout",
     "output_type": "stream",
     "text": [
      "Testing Dataset got 933 out of 971 images correctly (96.087%).\n",
      "Done\n",
      "Epoch number 3\n"
     ]
    },
    {
     "name": "stderr",
     "output_type": "stream",
     "text": [
      "Loss: 0.218, Acc: 92.175%: 100%|██████████| 122/122 [00:56<00:00,  2.17it/s]\n"
     ]
    },
    {
     "name": "stdout",
     "output_type": "stream",
     "text": [
      "Training Dataset got 3581 out of 3885 images correctly (92.175%). Epoch loss: 0.218\n"
     ]
    },
    {
     "name": "stderr",
     "output_type": "stream",
     "text": [
      "Acc: 95.984%: 100%|██████████| 31/31 [00:12<00:00,  2.53it/s]\n"
     ]
    },
    {
     "name": "stdout",
     "output_type": "stream",
     "text": [
      "Testing Dataset got 932 out of 971 images correctly (95.984%).\n",
      "Done\n",
      "Epoch number 4\n"
     ]
    },
    {
     "name": "stderr",
     "output_type": "stream",
     "text": [
      "Loss: 0.235, Acc: 91.351%: 100%|██████████| 122/122 [00:56<00:00,  2.18it/s]\n"
     ]
    },
    {
     "name": "stdout",
     "output_type": "stream",
     "text": [
      "Training Dataset got 3549 out of 3885 images correctly (91.351%). Epoch loss: 0.235\n"
     ]
    },
    {
     "name": "stderr",
     "output_type": "stream",
     "text": [
      "Acc: 96.189%: 100%|██████████| 31/31 [00:12<00:00,  2.52it/s]\n"
     ]
    },
    {
     "name": "stdout",
     "output_type": "stream",
     "text": [
      "Testing Dataset got 934 out of 971 images correctly (96.189%).\n",
      "Done\n",
      "Epoch number 5\n"
     ]
    },
    {
     "name": "stderr",
     "output_type": "stream",
     "text": [
      "Loss: 0.250, Acc: 91.223%: 100%|██████████| 122/122 [00:56<00:00,  2.16it/s]\n"
     ]
    },
    {
     "name": "stdout",
     "output_type": "stream",
     "text": [
      "Training Dataset got 3544 out of 3885 images correctly (91.223%). Epoch loss: 0.250\n"
     ]
    },
    {
     "name": "stderr",
     "output_type": "stream",
     "text": [
      "Acc: 96.087%: 100%|██████████| 31/31 [00:12<00:00,  2.53it/s]\n"
     ]
    },
    {
     "name": "stdout",
     "output_type": "stream",
     "text": [
      "Testing Dataset got 933 out of 971 images correctly (96.087%).\n",
      "Done\n",
      "Epoch number 6\n"
     ]
    },
    {
     "name": "stderr",
     "output_type": "stream",
     "text": [
      "Loss: 0.255, Acc: 91.223%: 100%|██████████| 122/122 [00:56<00:00,  2.17it/s]\n"
     ]
    },
    {
     "name": "stdout",
     "output_type": "stream",
     "text": [
      "Training Dataset got 3544 out of 3885 images correctly (91.223%). Epoch loss: 0.255\n"
     ]
    },
    {
     "name": "stderr",
     "output_type": "stream",
     "text": [
      "Acc: 95.366%: 100%|██████████| 31/31 [00:12<00:00,  2.51it/s]\n"
     ]
    },
    {
     "name": "stdout",
     "output_type": "stream",
     "text": [
      "Testing Dataset got 926 out of 971 images correctly (95.366%).\n",
      "Done\n",
      "Epoch number 7\n"
     ]
    },
    {
     "name": "stderr",
     "output_type": "stream",
     "text": [
      "Loss: 0.240, Acc: 91.429%: 100%|██████████| 122/122 [00:56<00:00,  2.17it/s]\n"
     ]
    },
    {
     "name": "stdout",
     "output_type": "stream",
     "text": [
      "Training Dataset got 3552 out of 3885 images correctly (91.429%). Epoch loss: 0.240\n"
     ]
    },
    {
     "name": "stderr",
     "output_type": "stream",
     "text": [
      "Acc: 96.087%: 100%|██████████| 31/31 [00:12<00:00,  2.52it/s]\n"
     ]
    },
    {
     "name": "stdout",
     "output_type": "stream",
     "text": [
      "Testing Dataset got 933 out of 971 images correctly (96.087%).\n",
      "Done\n",
      "Epoch number 8\n"
     ]
    },
    {
     "name": "stderr",
     "output_type": "stream",
     "text": [
      "Loss: 0.255, Acc: 91.377%: 100%|██████████| 122/122 [00:56<00:00,  2.16it/s]\n"
     ]
    },
    {
     "name": "stdout",
     "output_type": "stream",
     "text": [
      "Training Dataset got 3550 out of 3885 images correctly (91.377%). Epoch loss: 0.255\n"
     ]
    },
    {
     "name": "stderr",
     "output_type": "stream",
     "text": [
      "Acc: 96.395%: 100%|██████████| 31/31 [00:12<00:00,  2.52it/s]\n"
     ]
    },
    {
     "name": "stdout",
     "output_type": "stream",
     "text": [
      "Testing Dataset got 936 out of 971 images correctly (96.395%).\n",
      "=> new accuracy of 96.39546858908342 saved\n",
      "Done\n",
      "Epoch number 9\n"
     ]
    },
    {
     "name": "stderr",
     "output_type": "stream",
     "text": [
      "Loss: 0.238, Acc: 91.145%: 100%|██████████| 122/122 [00:56<00:00,  2.17it/s]\n"
     ]
    },
    {
     "name": "stdout",
     "output_type": "stream",
     "text": [
      "Training Dataset got 3541 out of 3885 images correctly (91.145%). Epoch loss: 0.238\n"
     ]
    },
    {
     "name": "stderr",
     "output_type": "stream",
     "text": [
      "Acc: 95.881%: 100%|██████████| 31/31 [00:12<00:00,  2.51it/s]\n"
     ]
    },
    {
     "name": "stdout",
     "output_type": "stream",
     "text": [
      "Testing Dataset got 931 out of 971 images correctly (95.881%).\n",
      "Done\n",
      "Epoch number 10\n"
     ]
    },
    {
     "name": "stderr",
     "output_type": "stream",
     "text": [
      "Loss: 0.226, Acc: 91.609%: 100%|██████████| 122/122 [00:56<00:00,  2.18it/s]\n"
     ]
    },
    {
     "name": "stdout",
     "output_type": "stream",
     "text": [
      "Training Dataset got 3559 out of 3885 images correctly (91.609%). Epoch loss: 0.226\n"
     ]
    },
    {
     "name": "stderr",
     "output_type": "stream",
     "text": [
      "Acc: 96.704%: 100%|██████████| 31/31 [00:12<00:00,  2.53it/s]\n"
     ]
    },
    {
     "name": "stdout",
     "output_type": "stream",
     "text": [
      "Testing Dataset got 939 out of 971 images correctly (96.704%).\n",
      "=> new accuracy of 96.70442842430484 saved\n",
      "Done\n"
     ]
    },
    {
     "name": "stderr",
     "output_type": "stream",
     "text": [
      "Acc: 96.189%: 100%|██████████| 31/31 [00:12<00:00,  2.49it/s]\n"
     ]
    },
    {
     "name": "stdout",
     "output_type": "stream",
     "text": [
      "Testing Dataset got 934 out of 971 images correctly (96.189%).\n",
      "Fold 5/5\n",
      "Epoch number 1\n"
     ]
    },
    {
     "name": "stderr",
     "output_type": "stream",
     "text": [
      "Loss: 0.239, Acc: 91.145%: 100%|██████████| 122/122 [00:56<00:00,  2.17it/s]\n"
     ]
    },
    {
     "name": "stdout",
     "output_type": "stream",
     "text": [
      "Training Dataset got 3541 out of 3885 images correctly (91.145%). Epoch loss: 0.239\n"
     ]
    },
    {
     "name": "stderr",
     "output_type": "stream",
     "text": [
      "Acc: 96.087%: 100%|██████████| 31/31 [00:12<00:00,  2.54it/s]\n"
     ]
    },
    {
     "name": "stdout",
     "output_type": "stream",
     "text": [
      "Testing Dataset got 933 out of 971 images correctly (96.087%).\n",
      "=> new accuracy of 96.08650875386199 saved\n",
      "Done\n",
      "Epoch number 2\n"
     ]
    },
    {
     "name": "stderr",
     "output_type": "stream",
     "text": [
      "Loss: 0.234, Acc: 92.149%: 100%|██████████| 122/122 [00:56<00:00,  2.15it/s]\n"
     ]
    },
    {
     "name": "stdout",
     "output_type": "stream",
     "text": [
      "Training Dataset got 3580 out of 3885 images correctly (92.149%). Epoch loss: 0.234\n"
     ]
    },
    {
     "name": "stderr",
     "output_type": "stream",
     "text": [
      "Acc: 96.292%: 100%|██████████| 31/31 [00:12<00:00,  2.51it/s]\n"
     ]
    },
    {
     "name": "stdout",
     "output_type": "stream",
     "text": [
      "Testing Dataset got 935 out of 971 images correctly (96.292%).\n",
      "=> new accuracy of 96.29248197734294 saved\n",
      "Done\n",
      "Epoch number 3\n"
     ]
    },
    {
     "name": "stderr",
     "output_type": "stream",
     "text": [
      "Loss: 0.244, Acc: 90.991%: 100%|██████████| 122/122 [00:56<00:00,  2.16it/s]\n"
     ]
    },
    {
     "name": "stdout",
     "output_type": "stream",
     "text": [
      "Training Dataset got 3535 out of 3885 images correctly (90.991%). Epoch loss: 0.244\n"
     ]
    },
    {
     "name": "stderr",
     "output_type": "stream",
     "text": [
      "Acc: 96.395%: 100%|██████████| 31/31 [00:12<00:00,  2.51it/s]\n"
     ]
    },
    {
     "name": "stdout",
     "output_type": "stream",
     "text": [
      "Testing Dataset got 936 out of 971 images correctly (96.395%).\n",
      "=> new accuracy of 96.39546858908342 saved\n",
      "Done\n",
      "Epoch number 4\n"
     ]
    },
    {
     "name": "stderr",
     "output_type": "stream",
     "text": [
      "Loss: 0.234, Acc: 91.737%: 100%|██████████| 122/122 [00:56<00:00,  2.17it/s]\n"
     ]
    },
    {
     "name": "stdout",
     "output_type": "stream",
     "text": [
      "Training Dataset got 3564 out of 3885 images correctly (91.737%). Epoch loss: 0.234\n"
     ]
    },
    {
     "name": "stderr",
     "output_type": "stream",
     "text": [
      "Acc: 96.292%: 100%|██████████| 31/31 [00:12<00:00,  2.51it/s]\n"
     ]
    },
    {
     "name": "stdout",
     "output_type": "stream",
     "text": [
      "Testing Dataset got 935 out of 971 images correctly (96.292%).\n",
      "Done\n",
      "Epoch number 5\n"
     ]
    },
    {
     "name": "stderr",
     "output_type": "stream",
     "text": [
      "Loss: 0.255, Acc: 91.042%: 100%|██████████| 122/122 [00:55<00:00,  2.18it/s]\n"
     ]
    },
    {
     "name": "stdout",
     "output_type": "stream",
     "text": [
      "Training Dataset got 3537 out of 3885 images correctly (91.042%). Epoch loss: 0.255\n"
     ]
    },
    {
     "name": "stderr",
     "output_type": "stream",
     "text": [
      "Acc: 96.395%: 100%|██████████| 31/31 [00:12<00:00,  2.52it/s]\n"
     ]
    },
    {
     "name": "stdout",
     "output_type": "stream",
     "text": [
      "Testing Dataset got 936 out of 971 images correctly (96.395%).\n",
      "Done\n",
      "Epoch number 6\n"
     ]
    },
    {
     "name": "stderr",
     "output_type": "stream",
     "text": [
      "Loss: 0.240, Acc: 90.991%: 100%|██████████| 122/122 [00:56<00:00,  2.18it/s]\n"
     ]
    },
    {
     "name": "stdout",
     "output_type": "stream",
     "text": [
      "Training Dataset got 3535 out of 3885 images correctly (90.991%). Epoch loss: 0.240\n"
     ]
    },
    {
     "name": "stderr",
     "output_type": "stream",
     "text": [
      "Acc: 96.189%: 100%|██████████| 31/31 [00:12<00:00,  2.52it/s]\n"
     ]
    },
    {
     "name": "stdout",
     "output_type": "stream",
     "text": [
      "Testing Dataset got 934 out of 971 images correctly (96.189%).\n",
      "Done\n",
      "Epoch number 7\n"
     ]
    },
    {
     "name": "stderr",
     "output_type": "stream",
     "text": [
      "Loss: 0.222, Acc: 91.969%: 100%|██████████| 122/122 [00:56<00:00,  2.17it/s]\n"
     ]
    },
    {
     "name": "stdout",
     "output_type": "stream",
     "text": [
      "Training Dataset got 3573 out of 3885 images correctly (91.969%). Epoch loss: 0.222\n"
     ]
    },
    {
     "name": "stderr",
     "output_type": "stream",
     "text": [
      "Acc: 96.807%: 100%|██████████| 31/31 [00:12<00:00,  2.52it/s]\n"
     ]
    },
    {
     "name": "stdout",
     "output_type": "stream",
     "text": [
      "Testing Dataset got 940 out of 971 images correctly (96.807%).\n",
      "=> new accuracy of 96.80741503604531 saved\n",
      "Done\n",
      "Epoch number 8\n"
     ]
    },
    {
     "name": "stderr",
     "output_type": "stream",
     "text": [
      "Loss: 0.259, Acc: 91.300%: 100%|██████████| 122/122 [00:56<00:00,  2.17it/s]\n"
     ]
    },
    {
     "name": "stdout",
     "output_type": "stream",
     "text": [
      "Training Dataset got 3547 out of 3885 images correctly (91.300%). Epoch loss: 0.259\n"
     ]
    },
    {
     "name": "stderr",
     "output_type": "stream",
     "text": [
      "Acc: 96.292%: 100%|██████████| 31/31 [00:12<00:00,  2.51it/s]\n"
     ]
    },
    {
     "name": "stdout",
     "output_type": "stream",
     "text": [
      "Testing Dataset got 935 out of 971 images correctly (96.292%).\n",
      "Done\n",
      "Epoch number 9\n"
     ]
    },
    {
     "name": "stderr",
     "output_type": "stream",
     "text": [
      "Loss: 0.240, Acc: 91.789%: 100%|██████████| 122/122 [00:56<00:00,  2.17it/s]\n"
     ]
    },
    {
     "name": "stdout",
     "output_type": "stream",
     "text": [
      "Training Dataset got 3566 out of 3885 images correctly (91.789%). Epoch loss: 0.240\n"
     ]
    },
    {
     "name": "stderr",
     "output_type": "stream",
     "text": [
      "Acc: 95.881%: 100%|██████████| 31/31 [00:12<00:00,  2.48it/s]\n"
     ]
    },
    {
     "name": "stdout",
     "output_type": "stream",
     "text": [
      "Testing Dataset got 931 out of 971 images correctly (95.881%).\n",
      "Done\n",
      "Epoch number 10\n"
     ]
    },
    {
     "name": "stderr",
     "output_type": "stream",
     "text": [
      "Loss: 0.246, Acc: 92.072%: 100%|██████████| 122/122 [00:56<00:00,  2.18it/s]\n"
     ]
    },
    {
     "name": "stdout",
     "output_type": "stream",
     "text": [
      "Training Dataset got 3577 out of 3885 images correctly (92.072%). Epoch loss: 0.246\n"
     ]
    },
    {
     "name": "stderr",
     "output_type": "stream",
     "text": [
      "Acc: 96.189%: 100%|██████████| 31/31 [00:12<00:00,  2.52it/s]\n"
     ]
    },
    {
     "name": "stdout",
     "output_type": "stream",
     "text": [
      "Testing Dataset got 934 out of 971 images correctly (96.189%).\n",
      "Done\n"
     ]
    },
    {
     "name": "stderr",
     "output_type": "stream",
     "text": [
      "Acc: 96.395%: 100%|██████████| 31/31 [00:12<00:00,  2.51it/s]"
     ]
    },
    {
     "name": "stdout",
     "output_type": "stream",
     "text": [
      "Testing Dataset got 936 out of 971 images correctly (96.395%).\n",
      "Average accuracy across 5 folds: 91.663\n"
     ]
    },
    {
     "name": "stderr",
     "output_type": "stream",
     "text": [
      "\n"
     ]
    }
   ],
   "source": [
    "vgg_avg_accuracy = cross_validate(vgg_19, train_dataset, w_criterion, vgg_optimizer, vgg_scheduler ,\"vgg_19\", 10, k_folds=5)"
   ]
  },
  {
   "cell_type": "code",
   "execution_count": 39,
   "id": "5f4f2a38-3648-4317-b31e-03dcb525665a",
   "metadata": {},
   "outputs": [],
   "source": [
    "checkpoint = torch.load(\"vgg_19_model_best_acc.pth.tar\")\n",
    "vgg_19 = models.vgg19()\n",
    "vgg_19.classifier[6] = nn.Linear(vgg_19.classifier[6].in_features, classes)\n",
    "vgg_ftr = vgg_19.classifier[6].in_features\n",
    "vgg_19.fc = nn.Linear(vgg_ftr,classes)\n",
    "vgg_19.load_state_dict(checkpoint['model'])\n",
    "torch.save(vgg_19,'vgg_19.pth')"
   ]
  },
  {
   "cell_type": "code",
   "execution_count": 27,
   "id": "64146738-47ac-4f4d-aace-5fb0ccad2775",
   "metadata": {},
   "outputs": [],
   "source": [
    "vgg_19 = torch.load(\"vgg_19.pth\")"
   ]
  },
  {
   "cell_type": "code",
   "execution_count": 30,
   "id": "6bbcec70-fe51-42da-9292-f3cd507dcaef",
   "metadata": {},
   "outputs": [
    {
     "name": "stderr",
     "output_type": "stream",
     "text": [
      "C:\\Users\\SAMU\\anaconda3\\envs\\dermanet-env\\lib\\site-packages\\torch\\nn\\modules\\conv.py:456: UserWarning: Plan failed with an OutOfMemoryError: CUDA out of memory. Tried to allocate 2.20 GiB. GPU  (Triggered internally at C:\\cb\\pytorch_1000000000000\\work\\aten\\src\\ATen\\native\\cudnn\\Conv_v8.cpp:924.)\n",
      "  return F.conv2d(input, weight, bias, self.stride,\n"
     ]
    },
    {
     "name": "stdout",
     "output_type": "stream",
     "text": [
      "Normalized confusion matrix\n"
     ]
    },
    {
     "data": {
      "image/png": "[encoded data removed]",
      "text/plain": [
       "<Figure size 1400x1200 with 2 Axes>"
      ]
     },
     "metadata": {},
     "output_type": "display_data"
    },
    {
     "name": "stdout",
     "output_type": "stream",
     "text": [
      "Classification Report:\n",
      "                                     precision    recall  f1-score   support\n",
      "\n",
      "                   Acne and Rosacea       0.86      0.95      0.91       312\n",
      "                          Bug Bites       0.93      0.83      0.88       365\n",
      "                             Eczema       0.78      0.77      0.77       309\n",
      "             Hair Loss and Diseases       0.49      0.75      0.59        60\n",
      "Melanoma Skin Cancer Nevi and Moles       0.74      0.77      0.75       116\n",
      "            Nail Fungus and Disease       0.88      0.79      0.83       261\n",
      "\n",
      "                           accuracy                           0.83      1423\n",
      "                          macro avg       0.78      0.81      0.79      1423\n",
      "                       weighted avg       0.84      0.83      0.83      1423\n",
      "\n"
     ]
    }
   ],
   "source": [
    "vgg_19 = vgg_19.to(device)\n",
    "predictions, labels = compute_metrics(vgg_19, test_data_loader, class_names)"
   ]
  },
  {
   "cell_type": "code",
   "execution_count": 88,
   "id": "274ddd8b-b53d-4dca-97b2-b3dd5e12d0bc",
   "metadata": {},
   "outputs": [],
   "source": [
    "densenet_201 = torch.load(\"densenet_201.pth\").to(device)\n",
    "resnet_152 = torch.load(\"resnet_152.pth\").to(device)\n",
    "vgg_19 = torch.load(\"vgg_19.pth\").to(device)"
   ]
  },
  {
   "cell_type": "code",
   "execution_count": 89,
   "id": "9c23d650-dedb-4a30-93cb-f2f83bae54d1",
   "metadata": {},
   "outputs": [],
   "source": [
    "ensemble_model = EnsembleModel(densenet_201, resnet_152, vgg_19, num_classes=6).to(device)\n",
    "torch.save(ensemble_model, 'ensemble_model.pth')"
   ]
  },
  {
   "cell_type": "code",
   "execution_count": 94,
   "id": "457dcef2-46b8-4a48-b249-494aab3ab35b",
   "metadata": {},
   "outputs": [
    {
     "name": "stdout",
     "output_type": "stream",
     "text": [
      "Normalized confusion matrix\n"
     ]
    },
    {
     "data": {
      "image/png": "[encoded data removed]",
      "text/plain": [
       "<Figure size 1400x1200 with 2 Axes>"
      ]
     },
     "metadata": {},
     "output_type": "display_data"
    },
    {
     "name": "stdout",
     "output_type": "stream",
     "text": [
      "Classification Report:\n",
      "                                     precision    recall  f1-score   support\n",
      "\n",
      "                   Acne and Rosacea       0.28      0.87      0.43       312\n",
      "                          Bug Bites       0.00      0.00      0.00       365\n",
      "                             Eczema       0.20      0.01      0.01       309\n",
      "             Hair Loss and Diseases       0.00      0.00      0.00        60\n",
      "Melanoma Skin Cancer Nevi and Moles       0.00      0.00      0.00       116\n",
      "            Nail Fungus and Disease       0.53      0.90      0.67       261\n",
      "\n",
      "                           accuracy                           0.36      1423\n",
      "                          macro avg       0.17      0.30      0.18      1423\n",
      "                       weighted avg       0.20      0.36      0.22      1423\n",
      "\n"
     ]
    },
    {
     "name": "stderr",
     "output_type": "stream",
     "text": [
      "C:\\Users\\SAMU\\anaconda3\\envs\\dermanet-env\\lib\\site-packages\\sklearn\\metrics\\_classification.py:1509: UndefinedMetricWarning: Precision is ill-defined and being set to 0.0 in labels with no predicted samples. Use `zero_division` parameter to control this behavior.\n",
      "  _warn_prf(average, modifier, f\"{metric.capitalize()} is\", len(result))\n",
      "C:\\Users\\SAMU\\anaconda3\\envs\\dermanet-env\\lib\\site-packages\\sklearn\\metrics\\_classification.py:1509: UndefinedMetricWarning: Precision is ill-defined and being set to 0.0 in labels with no predicted samples. Use `zero_division` parameter to control this behavior.\n",
      "  _warn_prf(average, modifier, f\"{metric.capitalize()} is\", len(result))\n",
      "C:\\Users\\SAMU\\anaconda3\\envs\\dermanet-env\\lib\\site-packages\\sklearn\\metrics\\_classification.py:1509: UndefinedMetricWarning: Precision is ill-defined and being set to 0.0 in labels with no predicted samples. Use `zero_division` parameter to control this behavior.\n",
      "  _warn_prf(average, modifier, f\"{metric.capitalize()} is\", len(result))\n"
     ]
    }
   ],
   "source": [
    "predictions, labels = compute_metrics_ensemble(ensemble_model, test_data_loader, class_names)"
   ]
  },
  {
   "cell_type": "code",
   "execution_count": 95,
   "id": "50836dca-bd23-4d96-8073-e2f2f4f932d2",
   "metadata": {},
   "outputs": [],
   "source": [
    "m_1 = torch.load(\"densenet_201.pth\")\n",
    "m_2 = torch.load(\"resnet_152.pth\")\n",
    "m_3 = torch.load(\"vgg_19.pth\")\n",
    "\n",
    "m_1.eval()\n",
    "m_2.eval()\n",
    "m_3.eval()\n",
    "\n",
    "n_models = [m_1, m_2, m_3]"
   ]
  },
  {
   "cell_type": "code",
   "execution_count": 96,
   "id": "3816d43f-7a68-418f-a965-4b963a0e91eb",
   "metadata": {},
   "outputs": [
    {
     "name": "stdout",
     "output_type": "stream",
     "text": [
      "Normalized confusion matrix\n"
     ]
    },
    {
     "data": {
      "image/png": "[encoded data removed]",
      "text/plain": [
       "<Figure size 1400x1200 with 2 Axes>"
      ]
     },
     "metadata": {},
     "output_type": "display_data"
    },
    {
     "name": "stdout",
     "output_type": "stream",
     "text": [
      "Classification Report:\n",
      "{'Acne and Rosacea': {'precision': 0.8641114982578397, 'recall': 0.7948717948717948, 'f1-score': 0.8280467445742905, 'support': 312.0}, 'Bug Bites': {'precision': 0.9492063492063492, 'recall': 0.8191780821917808, 'f1-score': 0.8794117647058823, 'support': 365.0}, 'Eczema': {'precision': 0.7824561403508772, 'recall': 0.7216828478964401, 'f1-score': 0.7508417508417509, 'support': 309.0}, 'Hair Loss and Diseases': {'precision': 0.36054421768707484, 'recall': 0.8833333333333333, 'f1-score': 0.5120772946859904, 'support': 60.0}, 'Melanoma Skin Cancer Nevi and Moles': {'precision': 0.5421686746987951, 'recall': 0.7758620689655172, 'f1-score': 0.6382978723404256, 'support': 116.0}, 'Nail Fungus and Disease': {'precision': 0.9192825112107623, 'recall': 0.7854406130268199, 'f1-score': 0.8471074380165289, 'support': 261.0}, 'accuracy': 0.7856640899508082, 'macro avg': {'precision': 0.7362948985686164, 'recall': 0.7967281233809477, 'f1-score': 0.7426304775274781, 'support': 1423.0}, 'weighted avg': {'precision': 0.8308496184381434, 'recall': 0.7856640899508082, 'f1-score': 0.7991624818200208, 'support': 1423.0}}\n",
      "Metrics for DenseNet:\n",
      "Accuracy: 0.786\n",
      "Precision: 0.831\n",
      "Recall: 0.786\n",
      "F1-score: 0.799\n",
      "-----------------------\n",
      "Normalized confusion matrix\n"
     ]
    },
    {
     "data": {
      "image/png": "[encoded data removed]",
      "text/plain": [
       "<Figure size 1400x1200 with 2 Axes>"
      ]
     },
     "metadata": {},
     "output_type": "display_data"
    },
    {
     "name": "stdout",
     "output_type": "stream",
     "text": [
      "Classification Report:\n",
      "{'Acne and Rosacea': {'precision': 0.8955223880597015, 'recall': 0.7692307692307693, 'f1-score': 0.8275862068965517, 'support': 312.0}, 'Bug Bites': {'precision': 0.8970588235294118, 'recall': 0.8356164383561644, 'f1-score': 0.8652482269503546, 'support': 365.0}, 'Eczema': {'precision': 0.740983606557377, 'recall': 0.7313915857605178, 'f1-score': 0.7361563517915309, 'support': 309.0}, 'Hair Loss and Diseases': {'precision': 0.39097744360902253, 'recall': 0.8666666666666667, 'f1-score': 0.538860103626943, 'support': 60.0}, 'Melanoma Skin Cancer Nevi and Moles': {'precision': 0.577639751552795, 'recall': 0.8017241379310345, 'f1-score': 0.6714801444043321, 'support': 116.0}, 'Nail Fungus and Disease': {'precision': 0.9259259259259259, 'recall': 0.7662835249042146, 'f1-score': 0.8385744234800838, 'support': 261.0}, 'accuracy': 0.7842586085734364, 'macro avg': {'precision': 0.7380179898723723, 'recall': 0.7951521871415612, 'f1-score': 0.7463175761916329, 'support': 1423.0}, 'weighted avg': {'precision': 0.820748358785962, 'recall': 0.7842586085734364, 'f1-score': 0.794508812079415, 'support': 1423.0}}\n",
      "Metrics for ResNet:\n",
      "Accuracy: 0.784\n",
      "Precision: 0.821\n",
      "Recall: 0.784\n",
      "F1-score: 0.795\n",
      "-----------------------\n",
      "Normalized confusion matrix\n"
     ]
    },
    {
     "data": {
      "image/png": "[encoded data removed]",
      "text/plain": [
       "<Figure size 1400x1200 with 2 Axes>"
      ]
     },
     "metadata": {},
     "output_type": "display_data"
    },
    {
     "name": "stdout",
     "output_type": "stream",
     "text": [
      "Classification Report:\n",
      "{'Acne and Rosacea': {'precision': 0.8633720930232558, 'recall': 0.9519230769230769, 'f1-score': 0.9054878048780488, 'support': 312.0}, 'Bug Bites': {'precision': 0.9296636085626911, 'recall': 0.8328767123287671, 'f1-score': 0.8786127167630058, 'support': 365.0}, 'Eczema': {'precision': 0.7777777777777778, 'recall': 0.7702265372168284, 'f1-score': 0.7739837398373983, 'support': 309.0}, 'Hair Loss and Diseases': {'precision': 0.4891304347826087, 'recall': 0.75, 'f1-score': 0.5921052631578947, 'support': 60.0}, 'Melanoma Skin Cancer Nevi and Moles': {'precision': 0.7416666666666667, 'recall': 0.7672413793103449, 'f1-score': 0.7542372881355932, 'support': 116.0}, 'Nail Fungus and Disease': {'precision': 0.8760683760683761, 'recall': 0.7854406130268199, 'f1-score': 0.8282828282828283, 'support': 261.0}, 'accuracy': 0.8278285312719607, 'macro avg': {'precision': 0.7796131594802294, 'recall': 0.8096180531343062, 'f1-score': 0.788784940175795, 'support': 1423.0}, 'weighted avg': {'precision': 0.8384171813465265, 'recall': 0.8278285312719607, 'f1-score': 0.8303348360823788, 'support': 1423.0}}\n",
      "Metrics for VGG:\n",
      "Accuracy: 0.828\n",
      "Precision: 0.838\n",
      "Recall: 0.828\n",
      "F1-score: 0.830\n",
      "-----------------------\n"
     ]
    },
    {
     "data": {
      "image/png": "[encoded data removed]",
      "text/plain": [
       "<Figure size 1200x800 with 1 Axes>"
      ]
     },
     "metadata": {},
     "output_type": "display_data"
    }
   ],
   "source": [
    "compare_and_plot(n_models, test_data_loader, class_names)"
   ]
  },
  {
   "cell_type": "code",
   "execution_count": null,
   "id": "4a687b63-85fe-4db3-b0fc-2543fc4b4528",
   "metadata": {},
   "outputs": [],
   "source": []
  }
 ],
 "metadata": {
  "kernelspec": {
   "display_name": "dermanet-env",
   "language": "python",
   "name": "dermanet-env"
  },
  "language_info": {
   "codemirror_mode": {
    "name": "ipython",
    "version": 3
   },
   "file_extension": ".py",
   "mimetype": "text/x-python",
   "name": "python",
   "nbconvert_exporter": "python",
   "pygments_lexer": "ipython3",
   "version": "3.10.14"
  }
 },
 "nbformat": 4,
 "nbformat_minor": 5
}
